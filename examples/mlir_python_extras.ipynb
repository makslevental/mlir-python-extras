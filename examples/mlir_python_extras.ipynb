{
 "cells": [
  {
   "cell_type": "markdown",
   "metadata": {
    "id": "MVpw-wdNOFv0"
   },
   "source": [
    "# Welcome to `mlir-python-extras` enjoy your stay!\n",
    "\n",
    "more at https://github.com/makslevental/mlir-python-extras"
   ]
  },
  {
   "cell_type": "code",
   "execution_count": 73,
   "metadata": {
    "id": "TkecIbIHIsdf",
    "ExecuteTime": {
     "end_time": "2023-12-18T01:24:35.426486Z",
     "start_time": "2023-12-18T01:24:33.992125Z"
    }
   },
   "outputs": [],
   "source": [
    "!pip install mlir-python-bindings -f https://makslevental.github.io/wheels &> /dev/null\n",
    "!pip install git+https://github.com/makslevental/mlir-python-extras@$BRANCH &> /dev/null"
   ]
  },
  {
   "cell_type": "markdown",
   "metadata": {
    "id": "3emhocrkONpT"
   },
   "source": [
    "# \"Boiler plate\""
   ]
  },
  {
   "cell_type": "code",
   "execution_count": 74,
   "metadata": {
    "id": "xcvBjofzI8m-",
    "ExecuteTime": {
     "end_time": "2023-12-18T01:24:35.434701Z",
     "start_time": "2023-12-18T01:24:35.433081Z"
    }
   },
   "outputs": [],
   "source": [
    "import numpy as np\n",
    "\n",
    "import mlir.extras.types as T\n",
    "from mlir.extras.ast.canonicalize import canonicalize\n",
    "from mlir.extras.context import mlir_mod_ctx\n",
    "from mlir.extras.dialects.ext.arith import constant\n",
    "from mlir.extras.dialects.ext.memref import S\n",
    "from mlir.extras.dialects.ext.func import func\n",
    "from mlir.extras.dialects.ext.scf import canonicalizer as scf, range_ as range\n",
    "from mlir.extras.runtime.passes import Pipeline, run_pipeline\n",
    "from mlir.extras.runtime.refbackend import LLVMJITBackend\n",
    "\n",
    "# you need this to register the memref value caster\n",
    "# noinspection PyUnresolvedReferences\n",
    "import mlir.extras.dialects.ext.memref\n",
    "\n",
    "ctx_man = mlir_mod_ctx()\n",
    "ctx = ctx_man.__enter__()\n",
    "backend = LLVMJITBackend()"
   ]
  },
  {
   "cell_type": "markdown",
   "metadata": {
    "id": "9ijSKRNSOQ9D"
   },
   "source": [
    "# MWE"
   ]
  },
  {
   "cell_type": "code",
   "execution_count": 75,
   "metadata": {
    "id": "2bJ1wqMPNshV",
    "ExecuteTime": {
     "end_time": "2023-12-18T01:24:35.459359Z",
     "start_time": "2023-12-18T01:24:35.455120Z"
    }
   },
   "outputs": [],
   "source": [
    "K = 10\n",
    "memref_i64 = T.memref(K, K, T.i64)\n",
    "\n",
    "@func(emit=True)\n",
    "@canonicalize(using=scf)\n",
    "def memfoo(A: memref_i64, B: memref_i64, C: memref_i64):\n",
    "    one = constant(1)\n",
    "    two = constant(2)\n",
    "    if one > two:\n",
    "        C[0, 0] = constant(3, T.i64)\n",
    "    else:\n",
    "        for i in range(0, K):\n",
    "            for j in range(0, K):\n",
    "                C[i, j] = A[i, j] * B[i, j]"
   ]
  },
  {
   "cell_type": "markdown",
   "metadata": {
    "id": "xJDEigigOY09"
   },
   "source": [
    "## `func`, `memref`, `scf`, and `arith` dialects"
   ]
  },
  {
   "cell_type": "code",
   "execution_count": 76,
   "metadata": {
    "colab": {
     "base_uri": "https://localhost:8080/"
    },
    "id": "zBDx-j9RN3XX",
    "outputId": "913b8bec-270b-4db0-f78e-650327678524",
    "ExecuteTime": {
     "end_time": "2023-12-18T01:24:35.463060Z",
     "start_time": "2023-12-18T01:24:35.458913Z"
    }
   },
   "outputs": [
    {
     "name": "stdout",
     "output_type": "stream",
     "text": [
      "module {\n",
      "  func.func @memfoo(%arg0: memref<10x10xi64>, %arg1: memref<10x10xi64>, %arg2: memref<10x10xi64>) {\n",
      "    %c1_i32 = arith.constant 1 : i32\n",
      "    %c2_i32 = arith.constant 2 : i32\n",
      "    %0 = arith.cmpi ugt, %c1_i32, %c2_i32 : i32\n",
      "    scf.if %0 {\n",
      "      %c3_i64 = arith.constant 3 : i64\n",
      "      %c0 = arith.constant 0 : index\n",
      "      %c0_0 = arith.constant 0 : index\n",
      "      memref.store %c3_i64, %arg2[%c0, %c0_0] : memref<10x10xi64>\n",
      "    } else {\n",
      "      %c0 = arith.constant 0 : index\n",
      "      %c10 = arith.constant 10 : index\n",
      "      %c1 = arith.constant 1 : index\n",
      "      scf.for %arg3 = %c0 to %c10 step %c1 {\n",
      "        %c0_0 = arith.constant 0 : index\n",
      "        %c10_1 = arith.constant 10 : index\n",
      "        %c1_2 = arith.constant 1 : index\n",
      "        scf.for %arg4 = %c0_0 to %c10_1 step %c1_2 {\n",
      "          %1 = memref.load %arg0[%arg3, %arg4] : memref<10x10xi64>\n",
      "          %2 = memref.load %arg1[%arg3, %arg4] : memref<10x10xi64>\n",
      "          %3 = arith.muli %1, %2 : i64\n",
      "          memref.store %3, %arg2[%arg3, %arg4] : memref<10x10xi64>\n",
      "        }\n",
      "      }\n",
      "    }\n",
      "    return\n",
      "  }\n",
      "}\n"
     ]
    }
   ],
   "source": [
    "run_pipeline(ctx.module, Pipeline().cse())\n",
    "print(ctx.module)"
   ]
  },
  {
   "cell_type": "markdown",
   "metadata": {
    "id": "_P-E1f2aOm6y"
   },
   "source": [
    "## Lower to `llvm` dialect"
   ]
  },
  {
   "cell_type": "code",
   "execution_count": 77,
   "metadata": {
    "colab": {
     "base_uri": "https://localhost:8080/"
    },
    "id": "dlbMF12mN5N0",
    "outputId": "90262ae0-77d8-4ee1-d436-d1209c24ec85",
    "ExecuteTime": {
     "end_time": "2023-12-18T01:24:35.471546Z",
     "start_time": "2023-12-18T01:24:35.468138Z"
    }
   },
   "outputs": [
    {
     "name": "stdout",
     "output_type": "stream",
     "text": [
      "module {\n",
      "  llvm.func @memfoo(%arg0: !llvm.ptr, %arg1: !llvm.ptr, %arg2: i64, %arg3: i64, %arg4: i64, %arg5: i64, %arg6: i64, %arg7: !llvm.ptr, %arg8: !llvm.ptr, %arg9: i64, %arg10: i64, %arg11: i64, %arg12: i64, %arg13: i64, %arg14: !llvm.ptr, %arg15: !llvm.ptr, %arg16: i64, %arg17: i64, %arg18: i64, %arg19: i64, %arg20: i64) attributes {llvm.emit_c_interface} {\n",
      "    %0 = llvm.mlir.constant(3 : i64) : i64\n",
      "    %1 = llvm.mlir.constant(0 : index) : i64\n",
      "    %2 = llvm.mlir.constant(10 : index) : i64\n",
      "    %3 = llvm.mlir.constant(1 : index) : i64\n",
      "    %4 = llvm.mlir.constant(false) : i1\n",
      "    llvm.cond_br %4, ^bb1, ^bb2\n",
      "  ^bb1:  // pred: ^bb0\n",
      "    %5 = llvm.mul %1, %2  : i64\n",
      "    %6 = llvm.add %5, %1  : i64\n",
      "    %7 = llvm.getelementptr %arg15[%6] : (!llvm.ptr, i64) -> !llvm.ptr, i64\n",
      "    llvm.store %0, %7 : i64, !llvm.ptr\n",
      "    llvm.br ^bb9\n",
      "  ^bb2:  // pred: ^bb0\n",
      "    llvm.br ^bb3(%1 : i64)\n",
      "  ^bb3(%8: i64):  // 2 preds: ^bb2, ^bb7\n",
      "    %9 = llvm.icmp \"slt\" %8, %2 : i64\n",
      "    llvm.cond_br %9, ^bb4, ^bb8\n",
      "  ^bb4:  // pred: ^bb3\n",
      "    llvm.br ^bb5(%1 : i64)\n",
      "  ^bb5(%10: i64):  // 2 preds: ^bb4, ^bb6\n",
      "    %11 = llvm.icmp \"slt\" %10, %2 : i64\n",
      "    llvm.cond_br %11, ^bb6, ^bb7\n",
      "  ^bb6:  // pred: ^bb5\n",
      "    %12 = llvm.mul %8, %2  : i64\n",
      "    %13 = llvm.add %12, %10  : i64\n",
      "    %14 = llvm.getelementptr %arg1[%13] : (!llvm.ptr, i64) -> !llvm.ptr, i64\n",
      "    %15 = llvm.load %14 : !llvm.ptr -> i64\n",
      "    %16 = llvm.getelementptr %arg8[%13] : (!llvm.ptr, i64) -> !llvm.ptr, i64\n",
      "    %17 = llvm.load %16 : !llvm.ptr -> i64\n",
      "    %18 = llvm.mul %15, %17  : i64\n",
      "    %19 = llvm.getelementptr %arg15[%13] : (!llvm.ptr, i64) -> !llvm.ptr, i64\n",
      "    llvm.store %18, %19 : i64, !llvm.ptr\n",
      "    %20 = llvm.add %10, %3  : i64\n",
      "    llvm.br ^bb5(%20 : i64)\n",
      "  ^bb7:  // pred: ^bb5\n",
      "    %21 = llvm.add %8, %3  : i64\n",
      "    llvm.br ^bb3(%21 : i64)\n",
      "  ^bb8:  // pred: ^bb3\n",
      "    llvm.br ^bb9\n",
      "  ^bb9:  // 2 preds: ^bb1, ^bb8\n",
      "    llvm.return\n",
      "  }\n",
      "  llvm.func @_mlir_ciface_memfoo(%arg0: !llvm.ptr, %arg1: !llvm.ptr, %arg2: !llvm.ptr) attributes {llvm.emit_c_interface} {\n",
      "    %0 = llvm.load %arg0 : !llvm.ptr -> !llvm.struct<(ptr, ptr, i64, array<2 x i64>, array<2 x i64>)>\n",
      "    %1 = llvm.extractvalue %0[0] : !llvm.struct<(ptr, ptr, i64, array<2 x i64>, array<2 x i64>)> \n",
      "    %2 = llvm.extractvalue %0[1] : !llvm.struct<(ptr, ptr, i64, array<2 x i64>, array<2 x i64>)> \n",
      "    %3 = llvm.extractvalue %0[2] : !llvm.struct<(ptr, ptr, i64, array<2 x i64>, array<2 x i64>)> \n",
      "    %4 = llvm.extractvalue %0[3, 0] : !llvm.struct<(ptr, ptr, i64, array<2 x i64>, array<2 x i64>)> \n",
      "    %5 = llvm.extractvalue %0[3, 1] : !llvm.struct<(ptr, ptr, i64, array<2 x i64>, array<2 x i64>)> \n",
      "    %6 = llvm.extractvalue %0[4, 0] : !llvm.struct<(ptr, ptr, i64, array<2 x i64>, array<2 x i64>)> \n",
      "    %7 = llvm.extractvalue %0[4, 1] : !llvm.struct<(ptr, ptr, i64, array<2 x i64>, array<2 x i64>)> \n",
      "    %8 = llvm.load %arg1 : !llvm.ptr -> !llvm.struct<(ptr, ptr, i64, array<2 x i64>, array<2 x i64>)>\n",
      "    %9 = llvm.extractvalue %8[0] : !llvm.struct<(ptr, ptr, i64, array<2 x i64>, array<2 x i64>)> \n",
      "    %10 = llvm.extractvalue %8[1] : !llvm.struct<(ptr, ptr, i64, array<2 x i64>, array<2 x i64>)> \n",
      "    %11 = llvm.extractvalue %8[2] : !llvm.struct<(ptr, ptr, i64, array<2 x i64>, array<2 x i64>)> \n",
      "    %12 = llvm.extractvalue %8[3, 0] : !llvm.struct<(ptr, ptr, i64, array<2 x i64>, array<2 x i64>)> \n",
      "    %13 = llvm.extractvalue %8[3, 1] : !llvm.struct<(ptr, ptr, i64, array<2 x i64>, array<2 x i64>)> \n",
      "    %14 = llvm.extractvalue %8[4, 0] : !llvm.struct<(ptr, ptr, i64, array<2 x i64>, array<2 x i64>)> \n",
      "    %15 = llvm.extractvalue %8[4, 1] : !llvm.struct<(ptr, ptr, i64, array<2 x i64>, array<2 x i64>)> \n",
      "    %16 = llvm.load %arg2 : !llvm.ptr -> !llvm.struct<(ptr, ptr, i64, array<2 x i64>, array<2 x i64>)>\n",
      "    %17 = llvm.extractvalue %16[0] : !llvm.struct<(ptr, ptr, i64, array<2 x i64>, array<2 x i64>)> \n",
      "    %18 = llvm.extractvalue %16[1] : !llvm.struct<(ptr, ptr, i64, array<2 x i64>, array<2 x i64>)> \n",
      "    %19 = llvm.extractvalue %16[2] : !llvm.struct<(ptr, ptr, i64, array<2 x i64>, array<2 x i64>)> \n",
      "    %20 = llvm.extractvalue %16[3, 0] : !llvm.struct<(ptr, ptr, i64, array<2 x i64>, array<2 x i64>)> \n",
      "    %21 = llvm.extractvalue %16[3, 1] : !llvm.struct<(ptr, ptr, i64, array<2 x i64>, array<2 x i64>)> \n",
      "    %22 = llvm.extractvalue %16[4, 0] : !llvm.struct<(ptr, ptr, i64, array<2 x i64>, array<2 x i64>)> \n",
      "    %23 = llvm.extractvalue %16[4, 1] : !llvm.struct<(ptr, ptr, i64, array<2 x i64>, array<2 x i64>)> \n",
      "    llvm.call @memfoo(%1, %2, %3, %4, %5, %6, %7, %9, %10, %11, %12, %13, %14, %15, %17, %18, %19, %20, %21, %22, %23) : (!llvm.ptr, !llvm.ptr, i64, i64, i64, i64, i64, !llvm.ptr, !llvm.ptr, i64, i64, i64, i64, i64, !llvm.ptr, !llvm.ptr, i64, i64, i64, i64, i64) -> ()\n",
      "    llvm.return\n",
      "  }\n",
      "  llvm.func private @memfoo_return_consumer() attributes {llvm.emit_c_interface, refbackend_consume_return_callback, sym_visibility = \"private\"} {\n",
      "    llvm.call @_mlir_ciface_memfoo_return_consumer() : () -> ()\n",
      "    llvm.return\n",
      "  }\n",
      "  llvm.func @_mlir_ciface_memfoo_return_consumer() attributes {llvm.emit_c_interface, refbackend_consume_return_callback, sym_visibility = \"private\"}\n",
      "  llvm.func @memfoo_capi_wrapper(%arg0: !llvm.ptr, %arg1: !llvm.ptr, %arg2: i64, %arg3: i64, %arg4: i64, %arg5: i64, %arg6: i64, %arg7: !llvm.ptr, %arg8: !llvm.ptr, %arg9: i64, %arg10: i64, %arg11: i64, %arg12: i64, %arg13: i64, %arg14: !llvm.ptr, %arg15: !llvm.ptr, %arg16: i64, %arg17: i64, %arg18: i64, %arg19: i64, %arg20: i64) attributes {llvm.emit_c_interface} {\n",
      "    llvm.call @memfoo(%arg0, %arg1, %arg2, %arg3, %arg4, %arg5, %arg6, %arg7, %arg8, %arg9, %arg10, %arg11, %arg12, %arg13, %arg14, %arg15, %arg16, %arg17, %arg18, %arg19, %arg20) : (!llvm.ptr, !llvm.ptr, i64, i64, i64, i64, i64, !llvm.ptr, !llvm.ptr, i64, i64, i64, i64, i64, !llvm.ptr, !llvm.ptr, i64, i64, i64, i64, i64) -> ()\n",
      "    llvm.call @memfoo_return_consumer() : () -> ()\n",
      "    llvm.return\n",
      "  }\n",
      "  llvm.func @_mlir_ciface_memfoo_capi_wrapper(%arg0: !llvm.ptr, %arg1: !llvm.ptr, %arg2: !llvm.ptr) attributes {llvm.emit_c_interface} {\n",
      "    %0 = llvm.load %arg0 : !llvm.ptr -> !llvm.struct<(ptr, ptr, i64, array<2 x i64>, array<2 x i64>)>\n",
      "    %1 = llvm.extractvalue %0[0] : !llvm.struct<(ptr, ptr, i64, array<2 x i64>, array<2 x i64>)> \n",
      "    %2 = llvm.extractvalue %0[1] : !llvm.struct<(ptr, ptr, i64, array<2 x i64>, array<2 x i64>)> \n",
      "    %3 = llvm.extractvalue %0[2] : !llvm.struct<(ptr, ptr, i64, array<2 x i64>, array<2 x i64>)> \n",
      "    %4 = llvm.extractvalue %0[3, 0] : !llvm.struct<(ptr, ptr, i64, array<2 x i64>, array<2 x i64>)> \n",
      "    %5 = llvm.extractvalue %0[3, 1] : !llvm.struct<(ptr, ptr, i64, array<2 x i64>, array<2 x i64>)> \n",
      "    %6 = llvm.extractvalue %0[4, 0] : !llvm.struct<(ptr, ptr, i64, array<2 x i64>, array<2 x i64>)> \n",
      "    %7 = llvm.extractvalue %0[4, 1] : !llvm.struct<(ptr, ptr, i64, array<2 x i64>, array<2 x i64>)> \n",
      "    %8 = llvm.load %arg1 : !llvm.ptr -> !llvm.struct<(ptr, ptr, i64, array<2 x i64>, array<2 x i64>)>\n",
      "    %9 = llvm.extractvalue %8[0] : !llvm.struct<(ptr, ptr, i64, array<2 x i64>, array<2 x i64>)> \n",
      "    %10 = llvm.extractvalue %8[1] : !llvm.struct<(ptr, ptr, i64, array<2 x i64>, array<2 x i64>)> \n",
      "    %11 = llvm.extractvalue %8[2] : !llvm.struct<(ptr, ptr, i64, array<2 x i64>, array<2 x i64>)> \n",
      "    %12 = llvm.extractvalue %8[3, 0] : !llvm.struct<(ptr, ptr, i64, array<2 x i64>, array<2 x i64>)> \n",
      "    %13 = llvm.extractvalue %8[3, 1] : !llvm.struct<(ptr, ptr, i64, array<2 x i64>, array<2 x i64>)> \n",
      "    %14 = llvm.extractvalue %8[4, 0] : !llvm.struct<(ptr, ptr, i64, array<2 x i64>, array<2 x i64>)> \n",
      "    %15 = llvm.extractvalue %8[4, 1] : !llvm.struct<(ptr, ptr, i64, array<2 x i64>, array<2 x i64>)> \n",
      "    %16 = llvm.load %arg2 : !llvm.ptr -> !llvm.struct<(ptr, ptr, i64, array<2 x i64>, array<2 x i64>)>\n",
      "    %17 = llvm.extractvalue %16[0] : !llvm.struct<(ptr, ptr, i64, array<2 x i64>, array<2 x i64>)> \n",
      "    %18 = llvm.extractvalue %16[1] : !llvm.struct<(ptr, ptr, i64, array<2 x i64>, array<2 x i64>)> \n",
      "    %19 = llvm.extractvalue %16[2] : !llvm.struct<(ptr, ptr, i64, array<2 x i64>, array<2 x i64>)> \n",
      "    %20 = llvm.extractvalue %16[3, 0] : !llvm.struct<(ptr, ptr, i64, array<2 x i64>, array<2 x i64>)> \n",
      "    %21 = llvm.extractvalue %16[3, 1] : !llvm.struct<(ptr, ptr, i64, array<2 x i64>, array<2 x i64>)> \n",
      "    %22 = llvm.extractvalue %16[4, 0] : !llvm.struct<(ptr, ptr, i64, array<2 x i64>, array<2 x i64>)> \n",
      "    %23 = llvm.extractvalue %16[4, 1] : !llvm.struct<(ptr, ptr, i64, array<2 x i64>, array<2 x i64>)> \n",
      "    llvm.call @memfoo_capi_wrapper(%1, %2, %3, %4, %5, %6, %7, %9, %10, %11, %12, %13, %14, %15, %17, %18, %19, %20, %21, %22, %23) : (!llvm.ptr, !llvm.ptr, i64, i64, i64, i64, i64, !llvm.ptr, !llvm.ptr, i64, i64, i64, i64, i64, !llvm.ptr, !llvm.ptr, i64, i64, i64, i64, i64) -> ()\n",
      "    llvm.return\n",
      "  }\n",
      "}\n"
     ]
    }
   ],
   "source": [
    "module = backend.compile(\n",
    "    ctx.module,\n",
    "    kernel_name=memfoo.__name__,\n",
    "    pipeline=Pipeline().bufferize().lower_to_llvm(),\n",
    ")\n",
    "print(module)"
   ]
  },
  {
   "cell_type": "markdown",
   "metadata": {
    "id": "Dc-HjIzhO6a9"
   },
   "source": [
    "## Run"
   ]
  },
  {
   "cell_type": "code",
   "execution_count": 78,
   "metadata": {
    "id": "ZKTUiSksN8vM",
    "ExecuteTime": {
     "end_time": "2023-12-18T01:24:35.516444Z",
     "start_time": "2023-12-18T01:24:35.501604Z"
    }
   },
   "outputs": [],
   "source": [
    "A = np.random.randint(0, 10, (K, K)).astype(np.int64)\n",
    "B = np.random.randint(0, 10, (K, K)).astype(np.int64)\n",
    "C = np.zeros((K, K), dtype=np.int64)\n",
    "backend.load(module).memfoo(A, B, C)"
   ]
  },
  {
   "cell_type": "markdown",
   "metadata": {
    "id": "TtdESiwEPDjt"
   },
   "source": [
    "## Check the results"
   ]
  },
  {
   "cell_type": "code",
   "execution_count": 79,
   "metadata": {
    "colab": {
     "base_uri": "https://localhost:8080/"
    },
    "id": "3gj7xvY9OCpB",
    "outputId": "eadbf595-8bad-4246-d265-56d0051ffa85",
    "ExecuteTime": {
     "end_time": "2023-12-18T01:24:35.517727Z",
     "start_time": "2023-12-18T01:24:35.503411Z"
    }
   },
   "outputs": [
    {
     "name": "stdout",
     "output_type": "stream",
     "text": [
      "[[35  0 24  0  0  0  2 63 48 15]\n",
      " [28 56 18  8  0  6 49 10 16  6]\n",
      " [16 16 24 18 54  0 42 24  0  8]\n",
      " [ 6  0 16 27 24  2 18 48  0 72]\n",
      " [ 4 27 28  5 16 42 27 63  6 35]\n",
      " [ 0 72  6 20 24 30 56 18 14  0]\n",
      " [ 6  3  0 30 32  0 21  8 27  0]\n",
      " [25 27 35 21 12  1  0  0 32 12]\n",
      " [ 5 30  9 27 18  0  4  8 12 54]\n",
      " [ 0  0  5 42  8 48 24  0 36  7]]\n"
     ]
    }
   ],
   "source": [
    "print(C)\n",
    "assert np.array_equal(A * B, C)"
   ]
  },
  {
   "cell_type": "markdown",
   "metadata": {
    "id": "Ywu5wuvxUVe-"
   },
   "source": [
    "## Clean up after yourself"
   ]
  },
  {
   "cell_type": "code",
   "execution_count": 80,
   "metadata": {
    "id": "lB_vHZcvUYVI",
    "ExecuteTime": {
     "end_time": "2023-12-18T01:24:35.517806Z",
     "start_time": "2023-12-18T01:24:35.506933Z"
    }
   },
   "outputs": [],
   "source": [
    "ctx_man.__exit__(None, None, None);"
   ]
  },
  {
   "cell_type": "markdown",
   "metadata": {
    "id": "UP9QlXHBQwEn"
   },
   "source": [
    "# Slightly more complicated example"
   ]
  },
  {
   "cell_type": "code",
   "execution_count": 81,
   "metadata": {
    "id": "amh_lbcZQzj6",
    "ExecuteTime": {
     "end_time": "2023-12-18T01:24:35.555787Z",
     "start_time": "2023-12-18T01:24:35.514378Z"
    }
   },
   "outputs": [],
   "source": [
    "ctx_man = mlir_mod_ctx()\n",
    "ctx = ctx_man.__enter__()\n",
    "\n",
    "K = 256\n",
    "D = 32\n",
    "\n",
    "F = K // D\n",
    "ranked_memref_kxk_f32 = T.memref(K, K, T.f32)\n",
    "ranked_memref_dxd_f32 = T.memref(D, D, T.f32, layout=((K, 1), S))\n",
    "\n",
    "@func(emit=True)\n",
    "@canonicalize(using=scf)\n",
    "def tile(\n",
    "    A: ranked_memref_dxd_f32, B: ranked_memref_dxd_f32, C: ranked_memref_dxd_f32\n",
    "):\n",
    "    for i in range(0, D):\n",
    "        for j in range(0, D):\n",
    "            C[i, j] = A[i, j] + B[i, j]\n",
    "\n",
    "@func(emit=True)\n",
    "@canonicalize(using=scf)\n",
    "def tiled_memfoo(\n",
    "    A: ranked_memref_kxk_f32, B: ranked_memref_kxk_f32, C: ranked_memref_kxk_f32\n",
    "):\n",
    "    for i in range(0, F):\n",
    "        for j in range(0, F):\n",
    "            l = lambda l: l * D\n",
    "            r = lambda r: (r + 1) * D\n",
    "            a, b, c = (\n",
    "                A[l(i) : r(i), l(j) : r(j)],\n",
    "                B[l(i) : r(i), l(j) : r(j)],\n",
    "                C[l(i) : r(i), l(j) : r(j)],\n",
    "            )\n",
    "            tile(a, b, c)"
   ]
  },
  {
   "cell_type": "markdown",
   "metadata": {
    "id": "yeplm5V6RoHC"
   },
   "source": [
    "## `func`, `memref`, `scf`, and `arith` dialects"
   ]
  },
  {
   "cell_type": "code",
   "execution_count": 82,
   "metadata": {
    "colab": {
     "base_uri": "https://localhost:8080/"
    },
    "id": "fkR6mN8ZRb6i",
    "outputId": "3597d048-f24e-4cc5-b332-ad79f0e7bd18",
    "ExecuteTime": {
     "end_time": "2023-12-18T01:24:35.559445Z",
     "start_time": "2023-12-18T01:24:35.557101Z"
    }
   },
   "outputs": [
    {
     "name": "stdout",
     "output_type": "stream",
     "text": [
      "module {\n",
      "  func.func @tile(%arg0: memref<32x32xf32, strided<[256, 1], offset: ?>>, %arg1: memref<32x32xf32, strided<[256, 1], offset: ?>>, %arg2: memref<32x32xf32, strided<[256, 1], offset: ?>>) {\n",
      "    %c0 = arith.constant 0 : index\n",
      "    %c32 = arith.constant 32 : index\n",
      "    %c1 = arith.constant 1 : index\n",
      "    scf.for %arg3 = %c0 to %c32 step %c1 {\n",
      "      %c0_0 = arith.constant 0 : index\n",
      "      %c32_1 = arith.constant 32 : index\n",
      "      %c1_2 = arith.constant 1 : index\n",
      "      scf.for %arg4 = %c0_0 to %c32_1 step %c1_2 {\n",
      "        %0 = memref.load %arg0[%arg3, %arg4] : memref<32x32xf32, strided<[256, 1], offset: ?>>\n",
      "        %1 = memref.load %arg1[%arg3, %arg4] : memref<32x32xf32, strided<[256, 1], offset: ?>>\n",
      "        %2 = arith.addf %0, %1 : f32\n",
      "        memref.store %2, %arg2[%arg3, %arg4] : memref<32x32xf32, strided<[256, 1], offset: ?>>\n",
      "      }\n",
      "    }\n",
      "    return\n",
      "  }\n",
      "  func.func @tiled_memfoo(%arg0: memref<256x256xf32>, %arg1: memref<256x256xf32>, %arg2: memref<256x256xf32>) {\n",
      "    %c0 = arith.constant 0 : index\n",
      "    %c8 = arith.constant 8 : index\n",
      "    %c1 = arith.constant 1 : index\n",
      "    scf.for %arg3 = %c0 to %c8 step %c1 {\n",
      "      %c0_0 = arith.constant 0 : index\n",
      "      %c8_1 = arith.constant 8 : index\n",
      "      %c1_2 = arith.constant 1 : index\n",
      "      scf.for %arg4 = %c0_0 to %c8_1 step %c1_2 {\n",
      "        %c32 = arith.constant 32 : index\n",
      "        %0 = arith.muli %arg3, %c32 : index\n",
      "        %c1_3 = arith.constant 1 : index\n",
      "        %1 = arith.addi %arg3, %c1_3 : index\n",
      "        %c32_4 = arith.constant 32 : index\n",
      "        %2 = arith.muli %1, %c32_4 : index\n",
      "        %c32_5 = arith.constant 32 : index\n",
      "        %3 = arith.muli %arg4, %c32_5 : index\n",
      "        %c1_6 = arith.constant 1 : index\n",
      "        %4 = arith.addi %arg4, %c1_6 : index\n",
      "        %c32_7 = arith.constant 32 : index\n",
      "        %5 = arith.muli %4, %c32_7 : index\n",
      "        %6 = arith.cmpi eq, %arg3, %arg3 : index\n",
      "        %7 = arith.cmpi eq, %arg4, %arg4 : index\n",
      "        %subview = memref.subview %arg0[%0, %3] [32, 32] [1, 1] : memref<256x256xf32> to memref<32x32xf32, strided<[256, 1], offset: ?>>\n",
      "        %c32_8 = arith.constant 32 : index\n",
      "        %8 = arith.muli %arg3, %c32_8 : index\n",
      "        %c1_9 = arith.constant 1 : index\n",
      "        %9 = arith.addi %arg3, %c1_9 : index\n",
      "        %c32_10 = arith.constant 32 : index\n",
      "        %10 = arith.muli %9, %c32_10 : index\n",
      "        %c32_11 = arith.constant 32 : index\n",
      "        %11 = arith.muli %arg4, %c32_11 : index\n",
      "        %c1_12 = arith.constant 1 : index\n",
      "        %12 = arith.addi %arg4, %c1_12 : index\n",
      "        %c32_13 = arith.constant 32 : index\n",
      "        %13 = arith.muli %12, %c32_13 : index\n",
      "        %14 = arith.cmpi eq, %arg3, %arg3 : index\n",
      "        %15 = arith.cmpi eq, %arg4, %arg4 : index\n",
      "        %subview_14 = memref.subview %arg1[%8, %11] [32, 32] [1, 1] : memref<256x256xf32> to memref<32x32xf32, strided<[256, 1], offset: ?>>\n",
      "        %c32_15 = arith.constant 32 : index\n",
      "        %16 = arith.muli %arg3, %c32_15 : index\n",
      "        %c1_16 = arith.constant 1 : index\n",
      "        %17 = arith.addi %arg3, %c1_16 : index\n",
      "        %c32_17 = arith.constant 32 : index\n",
      "        %18 = arith.muli %17, %c32_17 : index\n",
      "        %c32_18 = arith.constant 32 : index\n",
      "        %19 = arith.muli %arg4, %c32_18 : index\n",
      "        %c1_19 = arith.constant 1 : index\n",
      "        %20 = arith.addi %arg4, %c1_19 : index\n",
      "        %c32_20 = arith.constant 32 : index\n",
      "        %21 = arith.muli %20, %c32_20 : index\n",
      "        %22 = arith.cmpi eq, %arg3, %arg3 : index\n",
      "        %23 = arith.cmpi eq, %arg4, %arg4 : index\n",
      "        %subview_21 = memref.subview %arg2[%16, %19] [32, 32] [1, 1] : memref<256x256xf32> to memref<32x32xf32, strided<[256, 1], offset: ?>>\n",
      "        func.call @tile(%subview, %subview_14, %subview_21) : (memref<32x32xf32, strided<[256, 1], offset: ?>>, memref<32x32xf32, strided<[256, 1], offset: ?>>, memref<32x32xf32, strided<[256, 1], offset: ?>>) -> ()\n",
      "      }\n",
      "    }\n",
      "    return\n",
      "  }\n",
      "}\n",
      "\n",
      "module {\n",
      "  func.func @tile(%arg0: memref<32x32xf32, strided<[256, 1], offset: ?>>, %arg1: memref<32x32xf32, strided<[256, 1], offset: ?>>, %arg2: memref<32x32xf32, strided<[256, 1], offset: ?>>) {\n",
      "    %c0 = arith.constant 0 : index\n",
      "    %c32 = arith.constant 32 : index\n",
      "    %c1 = arith.constant 1 : index\n",
      "    scf.for %arg3 = %c0 to %c32 step %c1 {\n",
      "      scf.for %arg4 = %c0 to %c32 step %c1 {\n",
      "        %0 = memref.load %arg0[%arg3, %arg4] : memref<32x32xf32, strided<[256, 1], offset: ?>>\n",
      "        %1 = memref.load %arg1[%arg3, %arg4] : memref<32x32xf32, strided<[256, 1], offset: ?>>\n",
      "        %2 = arith.addf %0, %1 : f32\n",
      "        memref.store %2, %arg2[%arg3, %arg4] : memref<32x32xf32, strided<[256, 1], offset: ?>>\n",
      "      }\n",
      "    }\n",
      "    return\n",
      "  }\n",
      "  func.func @tiled_memfoo(%arg0: memref<256x256xf32>, %arg1: memref<256x256xf32>, %arg2: memref<256x256xf32>) {\n",
      "    %c0 = arith.constant 0 : index\n",
      "    %c8 = arith.constant 8 : index\n",
      "    %c1 = arith.constant 1 : index\n",
      "    scf.for %arg3 = %c0 to %c8 step %c1 {\n",
      "      scf.for %arg4 = %c0 to %c8 step %c1 {\n",
      "        %c32 = arith.constant 32 : index\n",
      "        %0 = arith.muli %arg3, %c32 : index\n",
      "        %1 = arith.addi %arg3, %c1 : index\n",
      "        %2 = arith.muli %arg4, %c32 : index\n",
      "        %3 = arith.addi %arg4, %c1 : index\n",
      "        %subview = memref.subview %arg0[%0, %2] [32, 32] [1, 1] : memref<256x256xf32> to memref<32x32xf32, strided<[256, 1], offset: ?>>\n",
      "        %subview_0 = memref.subview %arg1[%0, %2] [32, 32] [1, 1] : memref<256x256xf32> to memref<32x32xf32, strided<[256, 1], offset: ?>>\n",
      "        %subview_1 = memref.subview %arg2[%0, %2] [32, 32] [1, 1] : memref<256x256xf32> to memref<32x32xf32, strided<[256, 1], offset: ?>>\n",
      "        func.call @tile(%subview, %subview_0, %subview_1) : (memref<32x32xf32, strided<[256, 1], offset: ?>>, memref<32x32xf32, strided<[256, 1], offset: ?>>, memref<32x32xf32, strided<[256, 1], offset: ?>>) -> ()\n",
      "      }\n",
      "    }\n",
      "    return\n",
      "  }\n",
      "}\n"
     ]
    }
   ],
   "source": [
    "print(ctx.module)\n",
    "module = run_pipeline(ctx.module, str(Pipeline().cse()))\n",
    "print(module)"
   ]
  },
  {
   "cell_type": "markdown",
   "metadata": {
    "id": "6ObNEVeTR0dF"
   },
   "source": [
    "## Run"
   ]
  },
  {
   "cell_type": "code",
   "execution_count": 83,
   "metadata": {
    "id": "OahzCa2yR3AX",
    "ExecuteTime": {
     "end_time": "2023-12-18T01:24:35.613591Z",
     "start_time": "2023-12-18T01:24:35.568953Z"
    }
   },
   "outputs": [],
   "source": [
    "module = backend.compile(\n",
    "    module,\n",
    "    kernel_name=tiled_memfoo.__name__,\n",
    "    pipeline=Pipeline().bufferize().lower_to_llvm(),\n",
    ")\n",
    "\n",
    "A = np.random.randint(0, 10, (K, K)).astype(np.float32)\n",
    "B = np.random.randint(0, 10, (K, K)).astype(np.float32)\n",
    "C = np.zeros((K, K)).astype(np.float32)\n",
    "\n",
    "backend.load(module).tiled_memfoo(A, B, C)"
   ]
  },
  {
   "cell_type": "markdown",
   "metadata": {
    "id": "374nuYgWTSJL"
   },
   "source": [
    "## Check your results"
   ]
  },
  {
   "cell_type": "code",
   "execution_count": 84,
   "metadata": {
    "colab": {
     "base_uri": "https://localhost:8080/"
    },
    "id": "2biEtkdFTT_H",
    "outputId": "47ba52c0-3d62-4319-a6b0-f23f3fd468e0",
    "ExecuteTime": {
     "end_time": "2023-12-18T01:24:35.616911Z",
     "start_time": "2023-12-18T01:24:35.614290Z"
    }
   },
   "outputs": [
    {
     "name": "stdout",
     "output_type": "stream",
     "text": [
      "[[ 0. 15. 16. ... 12.  8. 16.]\n",
      " [ 6. 14.  4. ...  8. 14. 11.]\n",
      " [12. 14.  3. ...  9.  9.  9.]\n",
      " ...\n",
      " [ 6.  3.  8. ...  5.  4.  9.]\n",
      " [14. 11. 12. ...  2.  8.  9.]\n",
      " [ 8. 16.  2. ...  1.  9.  9.]]\n"
     ]
    }
   ],
   "source": [
    "print(C)\n",
    "assert np.array_equal(A + B, C)"
   ]
  },
  {
   "cell_type": "markdown",
   "metadata": {
    "id": "dkK6RuhUUfi6"
   },
   "source": [
    "## Clean up after yourself"
   ]
  },
  {
   "cell_type": "code",
   "execution_count": 85,
   "metadata": {
    "id": "zXH2qabvUhOR",
    "ExecuteTime": {
     "end_time": "2023-12-18T01:24:35.619565Z",
     "start_time": "2023-12-18T01:24:35.617481Z"
    }
   },
   "outputs": [],
   "source": [
    "ctx_man.__exit__(None, None, None);"
   ]
  },
  {
   "cell_type": "markdown",
   "metadata": {
    "id": "UfdO_xJDTzh-"
   },
   "source": [
    "# Do it like the professionals"
   ]
  },
  {
   "cell_type": "code",
   "execution_count": 86,
   "metadata": {
    "colab": {
     "base_uri": "https://localhost:8080/"
    },
    "id": "7Dwvs8CBT2T9",
    "outputId": "cfc10029-cd9d-45da-d043-a4ee726133ed",
    "ExecuteTime": {
     "end_time": "2023-12-18T01:24:35.665295Z",
     "start_time": "2023-12-18T01:24:35.637725Z"
    }
   },
   "outputs": [
    {
     "name": "stdout",
     "output_type": "stream",
     "text": [
      "module {\n",
      "  func.func @linalg_memfoo(%arg0: memref<256x256xf32>, %arg1: memref<256x256xf32>, %arg2: memref<256x256xf32>) {\n",
      "    %c0 = arith.constant 0 : index\n",
      "    %c8 = arith.constant 8 : index\n",
      "    %c1 = arith.constant 1 : index\n",
      "    scf.for %arg3 = %c0 to %c8 step %c1 {\n",
      "      scf.for %arg4 = %c0 to %c8 step %c1 {\n",
      "        %c32 = arith.constant 32 : index\n",
      "        %0 = arith.muli %arg3, %c32 : index\n",
      "        %1 = arith.addi %arg3, %c1 : index\n",
      "        %2 = arith.muli %arg4, %c32 : index\n",
      "        %3 = arith.addi %arg4, %c1 : index\n",
      "        %subview = memref.subview %arg0[%0, %2] [32, 32] [1, 1] : memref<256x256xf32> to memref<32x32xf32, strided<[256, 1], offset: ?>>\n",
      "        %subview_0 = memref.subview %arg1[%0, %2] [32, 32] [1, 1] : memref<256x256xf32> to memref<32x32xf32, strided<[256, 1], offset: ?>>\n",
      "        %subview_1 = memref.subview %arg2[%0, %2] [32, 32] [1, 1] : memref<256x256xf32> to memref<32x32xf32, strided<[256, 1], offset: ?>>\n",
      "        linalg.add ins(%subview, %subview_0 : memref<32x32xf32, strided<[256, 1], offset: ?>>, memref<32x32xf32, strided<[256, 1], offset: ?>>) outs(%subview_1 : memref<32x32xf32, strided<[256, 1], offset: ?>>)\n",
      "      }\n",
      "    }\n",
      "    return\n",
      "  }\n",
      "}\n"
     ]
    }
   ],
   "source": [
    "ctx_man = mlir_mod_ctx()\n",
    "ctx = ctx_man.__enter__()\n",
    "\n",
    "ranked_memref_kxk_f32 = T.memref(K, K, T.f32)\n",
    "ranked_memref_dxd_f32 = T.memref(D, D, T.f32, layout=((K, 1), S))\n",
    "\n",
    "from mlir.extras.dialects.ext import linalg\n",
    "\n",
    "@func(emit=True)\n",
    "@canonicalize(using=scf)\n",
    "def linalg_memfoo(\n",
    "    A: ranked_memref_kxk_f32, B: ranked_memref_kxk_f32, C: ranked_memref_kxk_f32\n",
    "):\n",
    "    for i in range(0, F):\n",
    "        for j in range(0, F):\n",
    "            l = lambda l: l * D\n",
    "            r = lambda r: (r + 1) * D\n",
    "            a, b, c = (\n",
    "                A[l(i) : r(i), l(j) : r(j)],\n",
    "                B[l(i) : r(i), l(j) : r(j)],\n",
    "                C[l(i) : r(i), l(j) : r(j)],\n",
    "            )\n",
    "            linalg.add(a, b, c)\n",
    "\n",
    "module = run_pipeline(ctx.module, str(Pipeline().cse()))\n",
    "print(module)"
   ]
  },
  {
   "cell_type": "markdown",
   "metadata": {
    "id": "AdUDJvlMVHNk"
   },
   "source": [
    "## Run"
   ]
  },
  {
   "cell_type": "code",
   "execution_count": 87,
   "metadata": {
    "id": "_2DLkkQXVD_6",
    "ExecuteTime": {
     "end_time": "2023-12-18T01:24:35.716438Z",
     "start_time": "2023-12-18T01:24:35.664732Z"
    }
   },
   "outputs": [],
   "source": [
    "module = backend.compile(\n",
    "    module,\n",
    "    kernel_name=linalg_memfoo.__name__,\n",
    "    pipeline=Pipeline().convert_linalg_to_loops().bufferize().lower_to_llvm()\n",
    ")\n",
    "invoker = backend.load(module)\n",
    "A = np.random.randint(0, 10, (K, K)).astype(np.float32)\n",
    "B = np.random.randint(0, 10, (K, K)).astype(np.float32)\n",
    "C = np.zeros((K, K)).astype(np.float32)\n",
    "\n",
    "backend.load(module).linalg_memfoo(A, B, C)"
   ]
  },
  {
   "cell_type": "markdown",
   "metadata": {
    "id": "hupr7s5LVVpQ"
   },
   "source": [
    "## Check your results"
   ]
  },
  {
   "cell_type": "code",
   "execution_count": 88,
   "metadata": {
    "colab": {
     "base_uri": "https://localhost:8080/"
    },
    "id": "-22vHoGXVXfm",
    "outputId": "838de41e-8670-45bf-8ee7-65d6e9b8eb1a",
    "ExecuteTime": {
     "end_time": "2023-12-18T01:24:35.719783Z",
     "start_time": "2023-12-18T01:24:35.717654Z"
    }
   },
   "outputs": [
    {
     "name": "stdout",
     "output_type": "stream",
     "text": [
      "[[12.  4. 13. ...  9.  2. 11.]\n",
      " [ 9. 15. 16. ... 11.  3.  7.]\n",
      " [12. 11. 12. ... 11.  2.  8.]\n",
      " ...\n",
      " [12.  3.  6. ...  7. 11. 15.]\n",
      " [ 9. 11.  7. ... 17. 11.  7.]\n",
      " [10.  6. 12. ... 10. 17.  9.]]\n"
     ]
    }
   ],
   "source": [
    "print(C)\n",
    "assert np.array_equal(A + B, C)"
   ]
  },
  {
   "cell_type": "markdown",
   "metadata": {
    "id": "IZKkHZb2PKIB"
   },
   "source": [
    "## Clean up after yourself"
   ]
  },
  {
   "cell_type": "code",
   "execution_count": 89,
   "metadata": {
    "id": "XUvvimM-PHPq",
    "ExecuteTime": {
     "end_time": "2023-12-18T01:24:35.722540Z",
     "start_time": "2023-12-18T01:24:35.720554Z"
    }
   },
   "outputs": [],
   "source": [
    "ctx_man.__exit__(None, None, None);"
   ]
  }
 ],
 "metadata": {
  "colab": {
   "provenance": []
  },
  "kernelspec": {
   "display_name": "Python 3 (ipykernel)",
   "language": "python",
   "name": "python3"
  },
  "language_info": {
   "codemirror_mode": {
    "name": "ipython",
    "version": 3
   },
   "file_extension": ".py",
   "mimetype": "text/x-python",
   "name": "python",
   "nbconvert_exporter": "python",
   "pygments_lexer": "ipython3",
   "version": "3.12.0rc3"
  }
 },
 "nbformat": 4,
 "nbformat_minor": 4
}
