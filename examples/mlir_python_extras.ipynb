{
 "cells": [
  {
   "cell_type": "markdown",
   "metadata": {
    "id": "MVpw-wdNOFv0"
   },
   "source": [
    "# Welcome to `mlir-python-extras` enjoy your stay!\n",
    "\n",
    "more at https://github.com/makslevental/mlir-python-extras"
   ]
  },
  {
   "metadata": {
    "ExecuteTime": {
     "end_time": "2025-05-20T20:40:47.920410Z",
     "start_time": "2025-05-20T20:40:47.918278Z"
    }
   },
   "cell_type": "code",
   "source": [
    "# if running by yourself, you can use this instead\n",
    "# !pip install -q mlir-python-extras -f https://makslevental.github.io/wheels\n",
    "import os\n",
    "BRANCH = os.getenv(\"BRANCH\", \"main\")\n",
    "os.environ[\"BRANCH\"] = BRANCH\n",
    "os.environ[\"SCRIPT_ADDRESS\"] = f\"https://raw.githubusercontent.com/makslevental/mlir-python-extras/refs/heads/{BRANCH}/scripts/get_latest_bindings.py\""
   ],
   "outputs": [],
   "execution_count": 3
  },
  {
   "metadata": {
    "ExecuteTime": {
     "end_time": "2025-05-20T20:42:06.789887Z",
     "start_time": "2025-05-20T20:42:00.996805Z"
    }
   },
   "cell_type": "code",
   "source": [
    "%%bash\n",
    "curl $SCRIPT_ADDRESS -o get_latest_bindings.py\n",
    "latest_version=$(python get_latest_bindings.py \"none\")\n",
    "pip install mlir_python_bindings==$latest_version -f https://makslevental.github.io/wheels\n",
    "pip install git+https://github.com/makslevental/mlir-python-extras@$BRANCH"
   ],
   "outputs": [],
   "execution_count": 12
  },
  {
   "metadata": {},
   "cell_type": "markdown",
   "source": "# \"Boiler plate\""
  },
  {
   "metadata": {},
   "cell_type": "code",
   "outputs": [],
   "execution_count": null,
   "source": [
    "import numpy as np\n",
    "\n",
    "import mlir.extras.types as T\n",
    "from mlir.extras.ast.canonicalize import canonicalize\n",
    "from mlir.extras.context import mlir_mod_ctx\n",
    "from mlir.extras.dialects.ext.arith import constant\n",
    "from mlir.extras.dialects.ext.memref import S\n",
    "from mlir.extras.dialects.ext.func import func\n",
    "from mlir.extras.dialects.ext.scf import canonicalizer as scf, range_\n",
    "from mlir.extras.runtime.passes import Pipeline, run_pipeline\n",
    "from mlir.extras.runtime.refbackend import LLVMJITBackend\n",
    "from mlir.ir import StridedLayoutAttr\n",
    "\n",
    "# you need this to register the memref value caster\n",
    "# noinspection PyUnresolvedReferences\n",
    "import mlir.extras.dialects.ext.memref\n",
    "\n",
    "ctx_man = mlir_mod_ctx()\n",
    "ctx = ctx_man.__enter__()\n",
    "backend = LLVMJITBackend()"
   ]
  },
  {
   "cell_type": "markdown",
   "metadata": {
    "id": "9ijSKRNSOQ9D"
   },
   "source": [
    "# MWE"
   ]
  },
  {
   "cell_type": "code",
   "metadata": {
    "id": "2bJ1wqMPNshV"
   },
   "source": [
    "K = 10\n",
    "memref_i64 = T.memref(K, K, T.i64())\n",
    "\n",
    "@func(emit=True)\n",
    "@canonicalize(using=scf)\n",
    "def memfoo(A: memref_i64, B: memref_i64, C: memref_i64):\n",
    "    one = constant(1)\n",
    "    two = constant(2)\n",
    "    if one > two:\n",
    "        C[0, 0] = constant(3, T.i64())\n",
    "    else:\n",
    "        for i in range_(0, K):\n",
    "            for j in range_(0, K):\n",
    "                C[i, j] = A[i, j] * B[i, j]"
   ],
   "outputs": [],
   "execution_count": null
  },
  {
   "cell_type": "markdown",
   "metadata": {
    "id": "xJDEigigOY09"
   },
   "source": [
    "## `func`, `memref`, `scf`, and `arith` dialects"
   ]
  },
  {
   "cell_type": "code",
   "metadata": {
    "colab": {
     "base_uri": "https://localhost:8080/"
    },
    "id": "zBDx-j9RN3XX",
    "outputId": "913b8bec-270b-4db0-f78e-650327678524"
   },
   "source": [
    "run_pipeline(ctx.module, Pipeline().cse())\n",
    "print(ctx.module)"
   ],
   "outputs": [],
   "execution_count": null
  },
  {
   "cell_type": "markdown",
   "metadata": {
    "id": "_P-E1f2aOm6y"
   },
   "source": [
    "## Lower to `llvm` dialect"
   ]
  },
  {
   "cell_type": "code",
   "metadata": {
    "colab": {
     "base_uri": "https://localhost:8080/"
    },
    "id": "dlbMF12mN5N0",
    "outputId": "90262ae0-77d8-4ee1-d436-d1209c24ec85"
   },
   "source": [
    "module = backend.compile(\n",
    "    ctx.module,\n",
    "    kernel_name=memfoo.__name__,\n",
    "    pipeline=Pipeline().bufferize().lower_to_llvm(),\n",
    ")\n",
    "print(module)"
   ],
   "outputs": [],
   "execution_count": null
  },
  {
   "cell_type": "markdown",
   "metadata": {
    "id": "Dc-HjIzhO6a9"
   },
   "source": [
    "## Run"
   ]
  },
  {
   "cell_type": "code",
   "metadata": {
    "id": "ZKTUiSksN8vM"
   },
   "source": [
    "A = np.random.randint(0, 10, (K, K)).astype(np.int64)\n",
    "B = np.random.randint(0, 10, (K, K)).astype(np.int64)\n",
    "C = np.zeros((K, K), dtype=np.int64)\n",
    "backend.load(module).memfoo(A, B, C)"
   ],
   "outputs": [],
   "execution_count": null
  },
  {
   "cell_type": "markdown",
   "metadata": {
    "id": "TtdESiwEPDjt"
   },
   "source": [
    "## Check the results"
   ]
  },
  {
   "cell_type": "code",
   "metadata": {
    "colab": {
     "base_uri": "https://localhost:8080/"
    },
    "id": "3gj7xvY9OCpB",
    "outputId": "eadbf595-8bad-4246-d265-56d0051ffa85"
   },
   "source": [
    "print(C)\n",
    "assert np.array_equal(A * B, C)"
   ],
   "outputs": [],
   "execution_count": null
  },
  {
   "cell_type": "markdown",
   "metadata": {
    "id": "Ywu5wuvxUVe-"
   },
   "source": [
    "## Clean up after yourself"
   ]
  },
  {
   "cell_type": "code",
   "metadata": {
    "id": "lB_vHZcvUYVI"
   },
   "source": [
    "ctx_man.__exit__(None, None, None);"
   ],
   "outputs": [],
   "execution_count": null
  },
  {
   "cell_type": "markdown",
   "metadata": {
    "id": "UP9QlXHBQwEn"
   },
   "source": [
    "# Slightly more complicated example"
   ]
  },
  {
   "cell_type": "code",
   "metadata": {
    "id": "amh_lbcZQzj6"
   },
   "source": [
    "ctx_man = mlir_mod_ctx()\n",
    "ctx = ctx_man.__enter__()\n",
    "\n",
    "K = 256\n",
    "D = 32\n",
    "\n",
    "F = K // D\n",
    "ranked_memref_kxk_f32 = T.memref(K, K, T.f32())\n",
    "layout = StridedLayoutAttr.get(S, (K, 1))\n",
    "ranked_memref_dxd_f32 = T.memref(D, D, T.f32(), layout=layout)\n",
    "\n",
    "@func(emit=True)\n",
    "@canonicalize(using=scf)\n",
    "def tile(\n",
    "    A: ranked_memref_dxd_f32, B: ranked_memref_dxd_f32, C: ranked_memref_dxd_f32\n",
    "):\n",
    "    for i in range_(0, D):\n",
    "        for j in range_(0, D):\n",
    "            C[i, j] = A[i, j] + B[i, j]\n",
    "\n",
    "@func(emit=True)\n",
    "@canonicalize(using=scf)\n",
    "def tiled_memfoo(\n",
    "    A: ranked_memref_kxk_f32, B: ranked_memref_kxk_f32, C: ranked_memref_kxk_f32\n",
    "):\n",
    "    for i in range_(0, F):\n",
    "        for j in range_(0, F):\n",
    "            l = lambda l: l * D\n",
    "            r = lambda r: (r + 1) * D\n",
    "            a, b, c = (\n",
    "                A[l(i) : r(i), l(j) : r(j)],\n",
    "                B[l(i) : r(i), l(j) : r(j)],\n",
    "                C[l(i) : r(i), l(j) : r(j)],\n",
    "            )\n",
    "            tile(a, b, c)"
   ],
   "outputs": [],
   "execution_count": null
  },
  {
   "cell_type": "markdown",
   "metadata": {
    "id": "yeplm5V6RoHC"
   },
   "source": [
    "## `func`, `memref`, `scf`, and `arith` dialects"
   ]
  },
  {
   "cell_type": "code",
   "metadata": {
    "colab": {
     "base_uri": "https://localhost:8080/"
    },
    "id": "fkR6mN8ZRb6i",
    "outputId": "3597d048-f24e-4cc5-b332-ad79f0e7bd18"
   },
   "source": [
    "print(ctx.module)\n",
    "module = run_pipeline(ctx.module, str(Pipeline().cse()))\n",
    "print(module)"
   ],
   "outputs": [],
   "execution_count": null
  },
  {
   "cell_type": "markdown",
   "metadata": {
    "id": "6ObNEVeTR0dF"
   },
   "source": [
    "## Run"
   ]
  },
  {
   "cell_type": "code",
   "metadata": {
    "id": "OahzCa2yR3AX"
   },
   "source": [
    "module = backend.compile(\n",
    "    module,\n",
    "    kernel_name=tiled_memfoo.__name__,\n",
    "    pipeline=Pipeline().bufferize().lower_to_llvm(),\n",
    ")\n",
    "\n",
    "A = np.random.randint(0, 10, (K, K)).astype(np.float32)\n",
    "B = np.random.randint(0, 10, (K, K)).astype(np.float32)\n",
    "C = np.zeros((K, K)).astype(np.float32)\n",
    "\n",
    "backend.load(module).tiled_memfoo(A, B, C)"
   ],
   "outputs": [],
   "execution_count": null
  },
  {
   "cell_type": "markdown",
   "metadata": {
    "id": "374nuYgWTSJL"
   },
   "source": [
    "## Check your results"
   ]
  },
  {
   "cell_type": "code",
   "metadata": {
    "colab": {
     "base_uri": "https://localhost:8080/"
    },
    "id": "2biEtkdFTT_H",
    "outputId": "47ba52c0-3d62-4319-a6b0-f23f3fd468e0"
   },
   "source": [
    "print(C)\n",
    "assert np.array_equal(A + B, C)"
   ],
   "outputs": [],
   "execution_count": null
  },
  {
   "cell_type": "markdown",
   "metadata": {
    "id": "dkK6RuhUUfi6"
   },
   "source": [
    "## Clean up after yourself"
   ]
  },
  {
   "cell_type": "code",
   "metadata": {
    "id": "zXH2qabvUhOR"
   },
   "source": [
    "ctx_man.__exit__(None, None, None);"
   ],
   "outputs": [],
   "execution_count": null
  },
  {
   "cell_type": "markdown",
   "metadata": {
    "id": "UfdO_xJDTzh-"
   },
   "source": [
    "# Do it like the professionals"
   ]
  },
  {
   "cell_type": "code",
   "metadata": {
    "colab": {
     "base_uri": "https://localhost:8080/"
    },
    "id": "7Dwvs8CBT2T9",
    "outputId": "cfc10029-cd9d-45da-d043-a4ee726133ed"
   },
   "source": [
    "ctx_man = mlir_mod_ctx()\n",
    "ctx = ctx_man.__enter__()\n",
    "\n",
    "ranked_memref_kxk_f32 = T.memref(K, K, T.f32())\n",
    "layout = StridedLayoutAttr.get(S, (K, 1))\n",
    "ranked_memref_dxd_f32 = T.memref(D, D, T.f32(), layout=layout)\n",
    "\n",
    "from mlir.extras.dialects.ext import linalg\n",
    "\n",
    "@func(emit=True)\n",
    "@canonicalize(using=scf)\n",
    "def linalg_memfoo(\n",
    "    A: ranked_memref_kxk_f32, B: ranked_memref_kxk_f32, C: ranked_memref_kxk_f32\n",
    "):\n",
    "    for i in range_(0, F):\n",
    "        for j in range_(0, F):\n",
    "            l = lambda l: l * D\n",
    "            r = lambda r: (r + 1) * D\n",
    "            a, b, c = (\n",
    "                A[l(i) : r(i), l(j) : r(j)],\n",
    "                B[l(i) : r(i), l(j) : r(j)],\n",
    "                C[l(i) : r(i), l(j) : r(j)],\n",
    "            )\n",
    "            linalg.add(a, b, c)\n",
    "\n",
    "module = run_pipeline(ctx.module, str(Pipeline().cse()))\n",
    "print(module)"
   ],
   "outputs": [],
   "execution_count": null
  },
  {
   "cell_type": "markdown",
   "metadata": {
    "id": "AdUDJvlMVHNk"
   },
   "source": [
    "## Run"
   ]
  },
  {
   "cell_type": "code",
   "metadata": {
    "id": "_2DLkkQXVD_6"
   },
   "source": [
    "module = backend.compile(\n",
    "    module,\n",
    "    kernel_name=linalg_memfoo.__name__,\n",
    "    pipeline=Pipeline().convert_linalg_to_loops().bufferize().lower_to_llvm()\n",
    ")\n",
    "invoker = backend.load(module)\n",
    "A = np.random.randint(0, 10, (K, K)).astype(np.float32)\n",
    "B = np.random.randint(0, 10, (K, K)).astype(np.float32)\n",
    "C = np.zeros((K, K)).astype(np.float32)\n",
    "\n",
    "backend.load(module).linalg_memfoo(A, B, C)"
   ],
   "outputs": [],
   "execution_count": null
  },
  {
   "cell_type": "markdown",
   "metadata": {
    "id": "hupr7s5LVVpQ"
   },
   "source": [
    "## Check your results"
   ]
  },
  {
   "cell_type": "code",
   "metadata": {
    "colab": {
     "base_uri": "https://localhost:8080/"
    },
    "id": "-22vHoGXVXfm",
    "outputId": "838de41e-8670-45bf-8ee7-65d6e9b8eb1a"
   },
   "source": [
    "print(C)\n",
    "assert np.array_equal(A + B, C)"
   ],
   "outputs": [],
   "execution_count": null
  },
  {
   "cell_type": "markdown",
   "metadata": {
    "id": "IZKkHZb2PKIB"
   },
   "source": [
    "## Clean up after yourself"
   ]
  },
  {
   "cell_type": "code",
   "metadata": {
    "id": "XUvvimM-PHPq"
   },
   "source": [
    "ctx_man.__exit__(None, None, None);"
   ],
   "outputs": [],
   "execution_count": null
  }
 ],
 "metadata": {
  "colab": {
   "provenance": []
  },
  "kernelspec": {
   "display_name": "Python 3 (ipykernel)",
   "language": "python",
   "name": "python3"
  },
  "language_info": {
   "codemirror_mode": {
    "name": "ipython",
    "version": 3
   },
   "file_extension": ".py",
   "mimetype": "text/x-python",
   "name": "python",
   "nbconvert_exporter": "python",
   "pygments_lexer": "ipython3",
   "version": "3.12.0rc3"
  }
 },
 "nbformat": 4,
 "nbformat_minor": 4
}
