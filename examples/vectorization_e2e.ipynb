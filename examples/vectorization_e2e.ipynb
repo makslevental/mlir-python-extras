{
 "nbformat": 4,
 "nbformat_minor": 0,
 "metadata": {
  "colab": {
   "provenance": []
  },
  "kernelspec": {
   "name": "python3",
   "language": "python",
   "display_name": "Python 3 (ipykernel)"
  },
  "language_info": {
   "name": "python"
  }
 },
 "cells": [
  {
   "cell_type": "code",
   "execution_count": 1,
   "metadata": {
    "colab": {
     "base_uri": "https://localhost:8080/"
    },
    "id": "Xh-QUDWiX-FD",
    "outputId": "6865a63a-daa4-4610-e33a-721d37c0211f",
    "ExecuteTime": {
     "end_time": "2024-02-02T23:38:41.840251128Z",
     "start_time": "2024-02-02T23:38:31.521453852Z"
    }
   },
   "outputs": [],
   "source": [
    "!pip install -q mlir-python-bindings -f https://makslevental.github.io/wheels\n",
    "!pip install -q git+https://github.com/makslevental/mlir-python-extras@$BRANCH"
   ]
  },
  {
   "cell_type": "markdown",
   "source": [
    "# Boilerplate"
   ],
   "metadata": {
    "id": "OSATAYhg7pSZ"
   }
  },
  {
   "cell_type": "code",
   "source": [
    "import numpy as np\n",
    "\n",
    "import mlir.extras.types as T\n",
    "from mlir.dialects import builtin\n",
    "from mlir.dialects.transform import any_op_t\n",
    "from mlir.dialects.transform.extras import named_sequence, apply_patterns\n",
    "from mlir.extras.util import find_ops\n",
    "from mlir.ir import StringAttr, UnitAttr\n",
    "\n",
    "# you need this to register the memref value caster\n",
    "# noinspection PyUnresolvedReferences\n",
    "import mlir.extras.dialects.ext.memref\n",
    "from mlir.extras.context import RAIIMLIRContext, ExplicitlyManagedModule\n",
    "from mlir.dialects.bufferization import LayoutMapOption\n",
    "from mlir.dialects.transform.vector import (\n",
    "    VectorContractLowering,\n",
    "    VectorMultiReductionLowering,\n",
    "    VectorTransferSplit,\n",
    "    VectorTransposeLowering,\n",
    ")\n",
    "from mlir.extras.dialects.ext import linalg\n",
    "from mlir.extras.dialects.ext.func import func\n",
    "from mlir.extras.dialects.ext.transform import (\n",
    "    match,\n",
    "    tile_to_scf_for,\n",
    "    get_parent_op,\n",
    "    transform_any_op_t,\n",
    ")\n",
    "from mlir.extras.dialects.ext import transform\n",
    "from mlir.extras.runtime.passes import Pipeline, run_pipeline\n",
    "from mlir.extras.runtime.refbackend import LLVMJITBackend\n"
   ],
   "metadata": {
    "id": "_R-_0M5ZYO8p",
    "ExecuteTime": {
     "end_time": "2024-02-02T23:38:41.993205507Z",
     "start_time": "2024-02-02T23:38:41.882665804Z"
    }
   },
   "execution_count": 2,
   "outputs": []
  },
  {
   "cell_type": "markdown",
   "source": [
    "# Context"
   ],
   "metadata": {
    "id": "s-JTcrjo7tNK"
   }
  },
  {
   "cell_type": "code",
   "source": [
    "ctx = RAIIMLIRContext()\n",
    "module = ExplicitlyManagedModule()"
   ],
   "metadata": {
    "id": "AGpWj9BzZLC_",
    "ExecuteTime": {
     "end_time": "2024-02-02T23:38:41.997580807Z",
     "start_time": "2024-02-02T23:38:41.996080367Z"
    }
   },
   "execution_count": 3,
   "outputs": []
  },
  {
   "cell_type": "markdown",
   "source": [
    "# Kernel"
   ],
   "metadata": {
    "id": "qGcDtgkv71YB"
   }
  },
  {
   "cell_type": "code",
   "source": [
    "M, K, N = 2, 4, 6\n",
    "\n",
    "\n",
    "@func\n",
    "def matmul_tensors(\n",
    "    A: T.tensor(M, K, T.f32()),\n",
    "    B: T.tensor(K, N, T.f32()),\n",
    "    C: T.tensor(M, N, T.f32()),\n",
    "):\n",
    "    return linalg.matmul(A, B, C)\n",
    "\n",
    "@builtin.module(attrs={\"transform.target_tag\": StringAttr.get(\"payload\")})\n",
    "def payload():\n",
    "    matmul_tensors.emit(force=True)"
   ],
   "metadata": {
    "id": "7oQk4xJd72FI",
    "ExecuteTime": {
     "end_time": "2024-02-02T23:38:42.065273753Z",
     "start_time": "2024-02-02T23:38:41.998453735Z"
    }
   },
   "execution_count": 4,
   "outputs": []
  },
  {
   "cell_type": "markdown",
   "source": [
    "# Transform schedule (based on [transform-e2e.mlir](https://github.com/llvm/llvm-project/blob/375bd2201ce0d2c76cb47a02c87b8ca5ba8a3509/mlir/test/Dialect/LLVM/transform-e2e.mlir))"
   ],
   "metadata": {
    "id": "a0vJZrpR74KB"
   }
  },
  {
   "cell_type": "code",
   "source": [
    "@builtin.module(attrs={\"transform.with_named_sequence\": UnitAttr.get()})\n",
    "def mod_transform():\n",
    "    @named_sequence(\"main\", [any_op_t()], [])\n",
    "    def main(module_op: any_op_t()):\n",
    "        matmul = match(module_op, ops=[\"linalg.matmul\"])\n",
    "        tiled_matmul, (_, _, inner_loop) = tile_to_scf_for(matmul, sizes=[2, 2, 2])\n",
    "        transform.structured.vectorize_children_and_apply_patterns(\n",
    "            get_parent_op(transform_any_op_t(), tiled_matmul, isolated_from_above=True)\n",
    "        )\n",
    "        new_mod = transform.bufferization.one_shot_bufferize(\n",
    "            module_op,\n",
    "            function_boundary_type_conversion=LayoutMapOption.IdentityLayoutMap,\n",
    "            bufferize_function_boundaries=True,\n",
    "        )\n",
    "\n",
    "        func_op = match(new_mod, ops=[\"func.func\"])\n",
    "\n",
    "        @apply_patterns(func_op)\n",
    "        def pats():\n",
    "            transform.apply_patterns.vector.lower_contraction(\n",
    "                lowering_strategy=VectorContractLowering.OuterProduct\n",
    "            )\n",
    "            transform.apply_patterns.vector.transfer_permutation_patterns()\n",
    "            transform.apply_patterns.vector.lower_multi_reduction(\n",
    "                lowering_strategy=VectorMultiReductionLowering.InnerParallel\n",
    "            )\n",
    "            transform.apply_patterns.vector.split_transfer_full_partial(\n",
    "                split_transfer_strategy=VectorTransferSplit.LinalgCopy\n",
    "            )\n",
    "            transform.apply_patterns.vector.transfer_to_scf(\n",
    "                max_transfer_rank=1, full_unroll=True\n",
    "            )\n",
    "            transform.apply_patterns.vector.lower_transfer(max_transfer_rank=1)\n",
    "            transform.apply_patterns.vector.lower_shape_cast()\n",
    "            transform.apply_patterns.vector.lower_transpose(\n",
    "                lowering_strategy=VectorTransposeLowering.Shuffle1D\n",
    "            )"
   ],
   "metadata": {
    "id": "EaBgGTIz72ci",
    "ExecuteTime": {
     "end_time": "2024-02-02T23:38:42.074969398Z",
     "start_time": "2024-02-02T23:38:42.071307914Z"
    }
   },
   "execution_count": 5,
   "outputs": []
  },
  {
   "cell_type": "markdown",
   "source": [
    "# \"Finish\" the module"
   ],
   "metadata": {
    "id": "ADbabroS8ND2"
   }
  },
  {
   "cell_type": "code",
   "source": [
    "module = module.finish()\n",
    "print(module)"
   ],
   "metadata": {
    "colab": {
     "base_uri": "https://localhost:8080/"
    },
    "id": "CUOsYXaW8QKC",
    "outputId": "f8592229-1d9b-4c52-9133-30fd52c2716d",
    "ExecuteTime": {
     "end_time": "2024-02-02T23:38:42.124819505Z",
     "start_time": "2024-02-02T23:38:42.073431377Z"
    }
   },
   "execution_count": 6,
   "outputs": [
    {
     "name": "stdout",
     "output_type": "stream",
     "text": [
      "module {\n",
      "  module attributes {transform.target_tag = \"payload\"} {\n",
      "    func.func @matmul_tensors(%arg0: tensor<2x4xf32>, %arg1: tensor<4x6xf32>, %arg2: tensor<2x6xf32>) -> tensor<2x6xf32> {\n",
      "      %0 = linalg.matmul {cast = #linalg.type_fn<cast_signed>} ins(%arg0, %arg1 : tensor<2x4xf32>, tensor<4x6xf32>) outs(%arg2 : tensor<2x6xf32>) -> tensor<2x6xf32>\n",
      "      return %0 : tensor<2x6xf32>\n",
      "    }\n",
      "  }\n",
      "  module attributes {transform.with_named_sequence} {\n",
      "    transform.named_sequence @main(%arg0: !transform.any_op) {\n",
      "      %0 = transform.structured.match ops{[\"linalg.matmul\"]} in %arg0 : (!transform.any_op) -> !transform.any_op\n",
      "      %tiled_linalg_op, %loops:3 = transform.structured.tile_using_for %0[2, 2, 2] : (!transform.any_op) -> (!transform.any_op, !transform.any_op, !transform.any_op, !transform.any_op)\n",
      "      %1 = transform.get_parent_op %tiled_linalg_op {isolated_from_above} : (!transform.any_op) -> !transform.any_op\n",
      "      %2 = transform.structured.vectorize_children_and_apply_patterns %1 : (!transform.any_op) -> !transform.any_op\n",
      "      %3 = transform.bufferization.one_shot_bufferize layout{IdentityLayoutMap} %arg0 {bufferize_function_boundaries = true} : (!transform.any_op) -> !transform.any_op\n",
      "      %4 = transform.structured.match ops{[\"func.func\"]} in %3 : (!transform.any_op) -> !transform.any_op\n",
      "      transform.apply_patterns to %4 {\n",
      "        transform.apply_patterns.vector.lower_contraction\n",
      "        transform.apply_patterns.vector.transfer_permutation_patterns\n",
      "        transform.apply_patterns.vector.lower_multi_reduction\n",
      "        transform.apply_patterns.vector.split_transfer_full_partial\n",
      "        transform.apply_patterns.vector.transfer_to_scf full_unroll = true\n",
      "        transform.apply_patterns.vector.lower_transfer\n",
      "        transform.apply_patterns.vector.lower_shape_cast\n",
      "        transform.apply_patterns.vector.lower_transpose lowering_strategy = shuffle_1d\n",
      "      } : !transform.any_op\n",
      "      transform.yield \n",
      "    }\n",
      "  }\n",
      "}\n"
     ]
    }
   ]
  },
  {
   "cell_type": "markdown",
   "source": [
    "# Vectorize (execute the transform schedule)"
   ],
   "metadata": {
    "id": "0xN5kNvZ8Tyf"
   }
  },
  {
   "cell_type": "code",
   "source": [
    "vectorized_module = run_pipeline(\n",
    "    module,\n",
    "    pipeline=Pipeline().transform_interpreter(\n",
    "        entry_point=\"main\", debug_payload_root_tag=\"payload\"\n",
    "    ),\n",
    ")\n",
    "print(vectorized_module)"
   ],
   "metadata": {
    "colab": {
     "base_uri": "https://localhost:8080/"
    },
    "id": "lLwQLPD98Q4d",
    "outputId": "ecfa6c9a-15eb-40c7-df29-f43fcac02fbf",
    "ExecuteTime": {
     "end_time": "2024-02-02T23:38:42.125500027Z",
     "start_time": "2024-02-02T23:38:42.114919643Z"
    }
   },
   "execution_count": 7,
   "outputs": [
    {
     "name": "stdout",
     "output_type": "stream",
     "text": [
      "#map = affine_map<(d0) -> (d0 + 1)>\n",
      "module {\n",
      "  module attributes {transform.target_tag = \"payload\"} {\n",
      "    func.func @matmul_tensors(%arg0: memref<2x4xf32>, %arg1: memref<4x6xf32>, %arg2: memref<2x6xf32>) -> memref<2x6xf32> {\n",
      "      %cst = arith.constant dense<0.000000e+00> : vector<4xf32>\n",
      "      %cst_0 = arith.constant dense<0.000000e+00> : vector<2x2xf32>\n",
      "      %c4 = arith.constant 4 : index\n",
      "      %c6 = arith.constant 6 : index\n",
      "      %c0 = arith.constant 0 : index\n",
      "      %c2 = arith.constant 2 : index\n",
      "      %0 = scf.for %arg3 = %c0 to %c2 step %c2 iter_args(%arg4 = %arg2) -> (memref<2x6xf32>) {\n",
      "        %1 = scf.for %arg5 = %c0 to %c6 step %c2 iter_args(%arg6 = %arg4) -> (memref<2x6xf32>) {\n",
      "          %2 = scf.for %arg7 = %c0 to %c4 step %c2 iter_args(%arg8 = %arg6) -> (memref<2x6xf32>) {\n",
      "            %3 = vector.load %arg0[%arg3, %arg7] : memref<2x4xf32>, vector<2xf32>\n",
      "            %4 = affine.apply #map(%arg3)\n",
      "            %5 = vector.load %arg0[%4, %arg7] : memref<2x4xf32>, vector<2xf32>\n",
      "            %6 = vector.load %arg1[%arg7, %arg5] : memref<4x6xf32>, vector<2xf32>\n",
      "            %7 = affine.apply #map(%arg7)\n",
      "            %8 = vector.load %arg1[%7, %arg5] : memref<4x6xf32>, vector<2xf32>\n",
      "            %9 = vector.load %arg8[%arg3, %arg5] : memref<2x6xf32>, vector<2xf32>\n",
      "            %10 = vector.insert %9, %cst_0 [0] : vector<2xf32> into vector<2x2xf32>\n",
      "            %11 = affine.apply #map(%arg3)\n",
      "            %12 = vector.load %arg8[%11, %arg5] : memref<2x6xf32>, vector<2xf32>\n",
      "            %13 = vector.insert %12, %10 [1] : vector<2xf32> into vector<2x2xf32>\n",
      "            %14 = vector.insert_strided_slice %3, %cst {offsets = [0], strides = [1]} : vector<2xf32> into vector<4xf32>\n",
      "            %15 = vector.insert_strided_slice %5, %14 {offsets = [2], strides = [1]} : vector<2xf32> into vector<4xf32>\n",
      "            %16 = vector.shuffle %15, %15 [0, 2, 1, 3] : vector<4xf32>, vector<4xf32>\n",
      "            %17 = vector.extract_strided_slice %16 {offsets = [0], sizes = [2], strides = [1]} : vector<4xf32> to vector<2xf32>\n",
      "            %18 = vector.extract_strided_slice %16 {offsets = [2], sizes = [2], strides = [1]} : vector<4xf32> to vector<2xf32>\n",
      "            %19 = vector.outerproduct %17, %6, %13 {kind = #vector.kind<add>} : vector<2xf32>, vector<2xf32>\n",
      "            %20 = vector.outerproduct %18, %8, %19 {kind = #vector.kind<add>} : vector<2xf32>, vector<2xf32>\n",
      "            %21 = vector.extract %20[0] : vector<2xf32> from vector<2x2xf32>\n",
      "            vector.store %21, %arg8[%arg3, %arg5] : memref<2x6xf32>, vector<2xf32>\n",
      "            %22 = affine.apply #map(%arg3)\n",
      "            %23 = vector.extract %20[1] : vector<2xf32> from vector<2x2xf32>\n",
      "            vector.store %23, %arg8[%22, %arg5] : memref<2x6xf32>, vector<2xf32>\n",
      "            scf.yield %arg8 : memref<2x6xf32>\n",
      "          }\n",
      "          scf.yield %2 : memref<2x6xf32>\n",
      "        }\n",
      "        scf.yield %1 : memref<2x6xf32>\n",
      "      }\n",
      "      return %0 : memref<2x6xf32>\n",
      "    }\n",
      "  }\n",
      "  module attributes {transform.with_named_sequence} {\n",
      "    transform.named_sequence @main(%arg0: !transform.any_op) {\n",
      "      %0 = transform.structured.match ops{[\"linalg.matmul\"]} in %arg0 : (!transform.any_op) -> !transform.any_op\n",
      "      %tiled_linalg_op, %loops:3 = transform.structured.tile_using_for %0[2, 2, 2] : (!transform.any_op) -> (!transform.any_op, !transform.any_op, !transform.any_op, !transform.any_op)\n",
      "      %1 = transform.get_parent_op %tiled_linalg_op {isolated_from_above} : (!transform.any_op) -> !transform.any_op\n",
      "      %2 = transform.structured.vectorize_children_and_apply_patterns %1 : (!transform.any_op) -> !transform.any_op\n",
      "      %3 = transform.bufferization.one_shot_bufferize layout{IdentityLayoutMap} %arg0 {bufferize_function_boundaries = true} : (!transform.any_op) -> !transform.any_op\n",
      "      %4 = transform.structured.match ops{[\"func.func\"]} in %3 : (!transform.any_op) -> !transform.any_op\n",
      "      transform.apply_patterns to %4 {\n",
      "        transform.apply_patterns.vector.lower_contraction\n",
      "        transform.apply_patterns.vector.transfer_permutation_patterns\n",
      "        transform.apply_patterns.vector.lower_multi_reduction\n",
      "        transform.apply_patterns.vector.split_transfer_full_partial\n",
      "        transform.apply_patterns.vector.transfer_to_scf full_unroll = true\n",
      "        transform.apply_patterns.vector.lower_transfer\n",
      "        transform.apply_patterns.vector.lower_shape_cast\n",
      "        transform.apply_patterns.vector.lower_transpose lowering_strategy = shuffle_1d\n",
      "      } : !transform.any_op\n",
      "      transform.yield \n",
      "    }\n",
      "  }\n",
      "}\n"
     ]
    }
   ]
  },
  {
   "cell_type": "markdown",
   "source": [
    "# Lower to CPU (through LLVM, based on [TestLowerToLLVM.cpp](https://github.com/makslevental/llvm-project/blob/f6643263631bcb0d191ef923963ac1a5ca9ac5fd/mlir/test/lib/Dialect/LLVM/TestLowerToLLVM.cpp#L44))"
   ],
   "metadata": {
    "id": "D_NURglF8ZZW"
   }
  },
  {
   "cell_type": "code",
   "source": [
    "lower_to_llvm = (\n",
    "    Pipeline()\n",
    "    .Func(\n",
    "        Pipeline()\n",
    "        # Blanket-convert any remaining high-level vector ops to loops if any remain.\n",
    "        .convert_vector_to_scf()\n",
    "        # Blanket-convert any remaining linalg ops to loops if any remain.\n",
    "        .convert_linalg_to_loops()\n",
    "    )\n",
    "    # Blanket-convert any remaining affine ops if any remain.\n",
    "    .lower_affine()\n",
    "    # Convert SCF to CF (always needed).\n",
    "    .convert_scf_to_cf()\n",
    "    # Sprinkle some cleanups.\n",
    "    .canonicalize()\n",
    "    .cse()\n",
    "    # Convert vector to LLVM (always needed).\n",
    "    .convert_vector_to_llvm()\n",
    "    # Convert Math to LLVM (always needed).\n",
    "    .Func(Pipeline().convert_math_to_llvm())\n",
    "    # Expand complicated MemRef operations before lowering them.\n",
    "    .expand_strided_metadata()\n",
    "    # The expansion may create affine expressions. Get rid of them.\n",
    "    .lower_affine()\n",
    "    # Convert MemRef to LLVM (always needed).\n",
    "    .finalize_memref_to_llvm()\n",
    "    # Convert Func to LLVM (always needed).\n",
    "    .convert_func_to_llvm()\n",
    "    .convert_arith_to_llvm()\n",
    "    .convert_cf_to_llvm()\n",
    "    # Convert Index to LLVM (always needed).\n",
    "    .convert_index_to_llvm()\n",
    "    # Convert remaining unrealized_casts (always needed).\n",
    "    .reconcile_unrealized_casts()\n",
    ")\n",
    "\n",
    "backend = LLVMJITBackend()\n",
    "compiled_module = backend.compile(\n",
    "    find_ops(\n",
    "        vectorized_module.operation,\n",
    "        lambda x: \"transform.target_tag\" in x.attributes\n",
    "        and x.attributes[\"transform.target_tag\"].value == \"payload\",\n",
    "        single=True,\n",
    "    ),\n",
    "    kernel_name=matmul_tensors.__name__,\n",
    "    pipeline=lower_to_llvm,\n",
    ")\n",
    "print(compiled_module)"
   ],
   "metadata": {
    "colab": {
     "base_uri": "https://localhost:8080/"
    },
    "id": "9IoWjgc48bcn",
    "outputId": "39550464-fd37-4e6d-a257-e803b746d8de",
    "ExecuteTime": {
     "end_time": "2024-02-02T23:38:42.159273702Z",
     "start_time": "2024-02-02T23:38:42.115213581Z"
    }
   },
   "execution_count": 8,
   "outputs": [
    {
     "name": "stdout",
     "output_type": "stream",
     "text": [
      "module attributes {transform.target_tag = \"payload\"} {\n",
      "  llvm.func @matmul_tensors(%arg0: !llvm.ptr, %arg1: !llvm.ptr, %arg2: i64, %arg3: i64, %arg4: i64, %arg5: i64, %arg6: i64, %arg7: !llvm.ptr, %arg8: !llvm.ptr, %arg9: i64, %arg10: i64, %arg11: i64, %arg12: i64, %arg13: i64, %arg14: !llvm.ptr, %arg15: !llvm.ptr, %arg16: i64, %arg17: i64, %arg18: i64, %arg19: i64, %arg20: i64) -> !llvm.struct<(ptr, ptr, i64, array<2 x i64>, array<2 x i64>)> attributes {llvm.emit_c_interface} {\n",
      "    %0 = llvm.mlir.undef : !llvm.struct<(ptr, ptr, i64, array<2 x i64>, array<2 x i64>)>\n",
      "    %1 = llvm.insertvalue %arg0, %0[0] : !llvm.struct<(ptr, ptr, i64, array<2 x i64>, array<2 x i64>)> \n",
      "    %2 = llvm.insertvalue %arg1, %1[1] : !llvm.struct<(ptr, ptr, i64, array<2 x i64>, array<2 x i64>)> \n",
      "    %3 = llvm.insertvalue %arg2, %2[2] : !llvm.struct<(ptr, ptr, i64, array<2 x i64>, array<2 x i64>)> \n",
      "    %4 = llvm.insertvalue %arg3, %3[3, 0] : !llvm.struct<(ptr, ptr, i64, array<2 x i64>, array<2 x i64>)> \n",
      "    %5 = llvm.insertvalue %arg5, %4[4, 0] : !llvm.struct<(ptr, ptr, i64, array<2 x i64>, array<2 x i64>)> \n",
      "    %6 = llvm.insertvalue %arg4, %5[3, 1] : !llvm.struct<(ptr, ptr, i64, array<2 x i64>, array<2 x i64>)> \n",
      "    %7 = llvm.insertvalue %arg6, %6[4, 1] : !llvm.struct<(ptr, ptr, i64, array<2 x i64>, array<2 x i64>)> \n",
      "    %8 = llvm.mlir.undef : !llvm.struct<(ptr, ptr, i64, array<2 x i64>, array<2 x i64>)>\n",
      "    %9 = llvm.insertvalue %arg7, %8[0] : !llvm.struct<(ptr, ptr, i64, array<2 x i64>, array<2 x i64>)> \n",
      "    %10 = llvm.insertvalue %arg8, %9[1] : !llvm.struct<(ptr, ptr, i64, array<2 x i64>, array<2 x i64>)> \n",
      "    %11 = llvm.insertvalue %arg9, %10[2] : !llvm.struct<(ptr, ptr, i64, array<2 x i64>, array<2 x i64>)> \n",
      "    %12 = llvm.insertvalue %arg10, %11[3, 0] : !llvm.struct<(ptr, ptr, i64, array<2 x i64>, array<2 x i64>)> \n",
      "    %13 = llvm.insertvalue %arg12, %12[4, 0] : !llvm.struct<(ptr, ptr, i64, array<2 x i64>, array<2 x i64>)> \n",
      "    %14 = llvm.insertvalue %arg11, %13[3, 1] : !llvm.struct<(ptr, ptr, i64, array<2 x i64>, array<2 x i64>)> \n",
      "    %15 = llvm.insertvalue %arg13, %14[4, 1] : !llvm.struct<(ptr, ptr, i64, array<2 x i64>, array<2 x i64>)> \n",
      "    %16 = llvm.mlir.undef : !llvm.struct<(ptr, ptr, i64, array<2 x i64>, array<2 x i64>)>\n",
      "    %17 = llvm.insertvalue %arg14, %16[0] : !llvm.struct<(ptr, ptr, i64, array<2 x i64>, array<2 x i64>)> \n",
      "    %18 = llvm.insertvalue %arg15, %17[1] : !llvm.struct<(ptr, ptr, i64, array<2 x i64>, array<2 x i64>)> \n",
      "    %19 = llvm.insertvalue %arg16, %18[2] : !llvm.struct<(ptr, ptr, i64, array<2 x i64>, array<2 x i64>)> \n",
      "    %20 = llvm.insertvalue %arg17, %19[3, 0] : !llvm.struct<(ptr, ptr, i64, array<2 x i64>, array<2 x i64>)> \n",
      "    %21 = llvm.insertvalue %arg19, %20[4, 0] : !llvm.struct<(ptr, ptr, i64, array<2 x i64>, array<2 x i64>)> \n",
      "    %22 = llvm.insertvalue %arg18, %21[3, 1] : !llvm.struct<(ptr, ptr, i64, array<2 x i64>, array<2 x i64>)> \n",
      "    %23 = llvm.insertvalue %arg20, %22[4, 1] : !llvm.struct<(ptr, ptr, i64, array<2 x i64>, array<2 x i64>)> \n",
      "    %24 = llvm.mlir.constant(3 : i64) : i64\n",
      "    %25 = llvm.mlir.constant(2 : i64) : i64\n",
      "    %26 = llvm.mlir.constant(1 : i64) : i64\n",
      "    %27 = llvm.mlir.constant(0 : i32) : i32\n",
      "    %28 = llvm.mlir.constant(0 : i64) : i64\n",
      "    %29 = llvm.mlir.constant(6 : index) : i64\n",
      "    %30 = llvm.mlir.constant(4 : index) : i64\n",
      "    %31 = llvm.mlir.constant(2 : index) : i64\n",
      "    %32 = llvm.mlir.constant(0 : index) : i64\n",
      "    %33 = llvm.mlir.constant(6 : index) : i64\n",
      "    %34 = llvm.mlir.constant(4 : index) : i64\n",
      "    %35 = llvm.mlir.constant(dense<0.000000e+00> : vector<4xf32>) : vector<4xf32>\n",
      "    %36 = llvm.mlir.constant(1 : index) : i64\n",
      "    llvm.br ^bb1(%32, %23 : i64, !llvm.struct<(ptr, ptr, i64, array<2 x i64>, array<2 x i64>)>)\n",
      "  ^bb1(%37: i64, %38: !llvm.struct<(ptr, ptr, i64, array<2 x i64>, array<2 x i64>)>):  // 2 preds: ^bb0, ^bb6\n",
      "    %39 = llvm.icmp \"slt\" %37, %31 : i64\n",
      "    llvm.cond_br %39, ^bb2(%32, %38 : i64, !llvm.struct<(ptr, ptr, i64, array<2 x i64>, array<2 x i64>)>), ^bb7\n",
      "  ^bb2(%40: i64, %41: !llvm.struct<(ptr, ptr, i64, array<2 x i64>, array<2 x i64>)>):  // 2 preds: ^bb1, ^bb5\n",
      "    %42 = llvm.icmp \"slt\" %40, %33 : i64\n",
      "    llvm.cond_br %42, ^bb3(%32, %41 : i64, !llvm.struct<(ptr, ptr, i64, array<2 x i64>, array<2 x i64>)>), ^bb6\n",
      "  ^bb3(%43: i64, %44: !llvm.struct<(ptr, ptr, i64, array<2 x i64>, array<2 x i64>)>):  // 2 preds: ^bb2, ^bb4\n",
      "    %45 = llvm.icmp \"slt\" %43, %34 : i64\n",
      "    llvm.cond_br %45, ^bb4, ^bb5\n",
      "  ^bb4:  // pred: ^bb3\n",
      "    %46 = llvm.mul %37, %30  : i64\n",
      "    %47 = llvm.add %46, %43  : i64\n",
      "    %48 = llvm.getelementptr %arg1[%47] : (!llvm.ptr, i64) -> !llvm.ptr, f32\n",
      "    %49 = llvm.load %48 {alignment = 4 : i64} : !llvm.ptr -> vector<2xf32>\n",
      "    %50 = llvm.add %37, %36  : i64\n",
      "    %51 = llvm.mul %50, %30  : i64\n",
      "    %52 = llvm.add %51, %43  : i64\n",
      "    %53 = llvm.getelementptr %arg1[%52] : (!llvm.ptr, i64) -> !llvm.ptr, f32\n",
      "    %54 = llvm.load %53 {alignment = 4 : i64} : !llvm.ptr -> vector<2xf32>\n",
      "    %55 = llvm.mul %43, %29  : i64\n",
      "    %56 = llvm.add %55, %40  : i64\n",
      "    %57 = llvm.getelementptr %arg8[%56] : (!llvm.ptr, i64) -> !llvm.ptr, f32\n",
      "    %58 = llvm.load %57 {alignment = 4 : i64} : !llvm.ptr -> vector<2xf32>\n",
      "    %59 = llvm.add %43, %36  : i64\n",
      "    %60 = llvm.mul %59, %29  : i64\n",
      "    %61 = llvm.add %60, %40  : i64\n",
      "    %62 = llvm.getelementptr %arg8[%61] : (!llvm.ptr, i64) -> !llvm.ptr, f32\n",
      "    %63 = llvm.load %62 {alignment = 4 : i64} : !llvm.ptr -> vector<2xf32>\n",
      "    %64 = llvm.extractvalue %44[1] : !llvm.struct<(ptr, ptr, i64, array<2 x i64>, array<2 x i64>)> \n",
      "    %65 = llvm.mul %37, %29  : i64\n",
      "    %66 = llvm.add %65, %40  : i64\n",
      "    %67 = llvm.getelementptr %64[%66] : (!llvm.ptr, i64) -> !llvm.ptr, f32\n",
      "    %68 = llvm.load %67 {alignment = 4 : i64} : !llvm.ptr -> vector<2xf32>\n",
      "    %69 = llvm.extractvalue %44[1] : !llvm.struct<(ptr, ptr, i64, array<2 x i64>, array<2 x i64>)> \n",
      "    %70 = llvm.mul %50, %29  : i64\n",
      "    %71 = llvm.add %70, %40  : i64\n",
      "    %72 = llvm.getelementptr %69[%71] : (!llvm.ptr, i64) -> !llvm.ptr, f32\n",
      "    %73 = llvm.load %72 {alignment = 4 : i64} : !llvm.ptr -> vector<2xf32>\n",
      "    %74 = llvm.shufflevector %49, %49 [0, 1, 0, 0] : vector<2xf32> \n",
      "    %75 = llvm.shufflevector %74, %35 [0, 1, 6, 7] : vector<4xf32> \n",
      "    %76 = llvm.shufflevector %54, %54 [0, 1, 0, 0] : vector<2xf32> \n",
      "    %77 = llvm.shufflevector %76, %75 [4, 5, 0, 1] : vector<4xf32> \n",
      "    %78 = llvm.shufflevector %77, %77 [0, 2, 1, 3] : vector<4xf32> \n",
      "    %79 = llvm.extractelement %78[%28 : i64] : vector<4xf32>\n",
      "    %80 = llvm.mlir.undef : vector<2xf32>\n",
      "    %81 = llvm.insertelement %79, %80[%27 : i32] : vector<2xf32>\n",
      "    %82 = llvm.shufflevector %81, %80 [0, 0] : vector<2xf32> \n",
      "    %83 = llvm.intr.fmuladd(%82, %58, %68)  : (vector<2xf32>, vector<2xf32>, vector<2xf32>) -> vector<2xf32>\n",
      "    %84 = llvm.extractelement %78[%26 : i64] : vector<4xf32>\n",
      "    %85 = llvm.mlir.undef : vector<2xf32>\n",
      "    %86 = llvm.insertelement %84, %85[%27 : i32] : vector<2xf32>\n",
      "    %87 = llvm.shufflevector %86, %85 [0, 0] : vector<2xf32> \n",
      "    %88 = llvm.intr.fmuladd(%87, %58, %73)  : (vector<2xf32>, vector<2xf32>, vector<2xf32>) -> vector<2xf32>\n",
      "    %89 = llvm.extractelement %78[%25 : i64] : vector<4xf32>\n",
      "    %90 = llvm.mlir.undef : vector<2xf32>\n",
      "    %91 = llvm.insertelement %89, %90[%27 : i32] : vector<2xf32>\n",
      "    %92 = llvm.shufflevector %91, %90 [0, 0] : vector<2xf32> \n",
      "    %93 = llvm.intr.fmuladd(%92, %63, %83)  : (vector<2xf32>, vector<2xf32>, vector<2xf32>) -> vector<2xf32>\n",
      "    %94 = llvm.extractelement %78[%24 : i64] : vector<4xf32>\n",
      "    %95 = llvm.mlir.undef : vector<2xf32>\n",
      "    %96 = llvm.insertelement %94, %95[%27 : i32] : vector<2xf32>\n",
      "    %97 = llvm.shufflevector %96, %95 [0, 0] : vector<2xf32> \n",
      "    %98 = llvm.intr.fmuladd(%97, %63, %88)  : (vector<2xf32>, vector<2xf32>, vector<2xf32>) -> vector<2xf32>\n",
      "    %99 = llvm.extractvalue %44[1] : !llvm.struct<(ptr, ptr, i64, array<2 x i64>, array<2 x i64>)> \n",
      "    %100 = llvm.mul %37, %29  : i64\n",
      "    %101 = llvm.add %100, %40  : i64\n",
      "    %102 = llvm.getelementptr %99[%101] : (!llvm.ptr, i64) -> !llvm.ptr, f32\n",
      "    llvm.store %93, %102 {alignment = 4 : i64} : vector<2xf32>, !llvm.ptr\n",
      "    %103 = llvm.extractvalue %44[1] : !llvm.struct<(ptr, ptr, i64, array<2 x i64>, array<2 x i64>)> \n",
      "    %104 = llvm.mul %50, %29  : i64\n",
      "    %105 = llvm.add %104, %40  : i64\n",
      "    %106 = llvm.getelementptr %103[%105] : (!llvm.ptr, i64) -> !llvm.ptr, f32\n",
      "    llvm.store %98, %106 {alignment = 4 : i64} : vector<2xf32>, !llvm.ptr\n",
      "    %107 = llvm.add %43, %31  : i64\n",
      "    llvm.br ^bb3(%107, %44 : i64, !llvm.struct<(ptr, ptr, i64, array<2 x i64>, array<2 x i64>)>)\n",
      "  ^bb5:  // pred: ^bb3\n",
      "    %108 = llvm.add %40, %31  : i64\n",
      "    llvm.br ^bb2(%108, %44 : i64, !llvm.struct<(ptr, ptr, i64, array<2 x i64>, array<2 x i64>)>)\n",
      "  ^bb6:  // pred: ^bb2\n",
      "    %109 = llvm.add %37, %31  : i64\n",
      "    llvm.br ^bb1(%109, %41 : i64, !llvm.struct<(ptr, ptr, i64, array<2 x i64>, array<2 x i64>)>)\n",
      "  ^bb7:  // pred: ^bb1\n",
      "    llvm.return %38 : !llvm.struct<(ptr, ptr, i64, array<2 x i64>, array<2 x i64>)>\n",
      "  }\n",
      "  llvm.func @_mlir_ciface_matmul_tensors(%arg0: !llvm.ptr, %arg1: !llvm.ptr, %arg2: !llvm.ptr, %arg3: !llvm.ptr) attributes {llvm.emit_c_interface} {\n",
      "    %0 = llvm.load %arg1 : !llvm.ptr -> !llvm.struct<(ptr, ptr, i64, array<2 x i64>, array<2 x i64>)>\n",
      "    %1 = llvm.extractvalue %0[0] : !llvm.struct<(ptr, ptr, i64, array<2 x i64>, array<2 x i64>)> \n",
      "    %2 = llvm.extractvalue %0[1] : !llvm.struct<(ptr, ptr, i64, array<2 x i64>, array<2 x i64>)> \n",
      "    %3 = llvm.extractvalue %0[2] : !llvm.struct<(ptr, ptr, i64, array<2 x i64>, array<2 x i64>)> \n",
      "    %4 = llvm.extractvalue %0[3, 0] : !llvm.struct<(ptr, ptr, i64, array<2 x i64>, array<2 x i64>)> \n",
      "    %5 = llvm.extractvalue %0[3, 1] : !llvm.struct<(ptr, ptr, i64, array<2 x i64>, array<2 x i64>)> \n",
      "    %6 = llvm.extractvalue %0[4, 0] : !llvm.struct<(ptr, ptr, i64, array<2 x i64>, array<2 x i64>)> \n",
      "    %7 = llvm.extractvalue %0[4, 1] : !llvm.struct<(ptr, ptr, i64, array<2 x i64>, array<2 x i64>)> \n",
      "    %8 = llvm.load %arg2 : !llvm.ptr -> !llvm.struct<(ptr, ptr, i64, array<2 x i64>, array<2 x i64>)>\n",
      "    %9 = llvm.extractvalue %8[0] : !llvm.struct<(ptr, ptr, i64, array<2 x i64>, array<2 x i64>)> \n",
      "    %10 = llvm.extractvalue %8[1] : !llvm.struct<(ptr, ptr, i64, array<2 x i64>, array<2 x i64>)> \n",
      "    %11 = llvm.extractvalue %8[2] : !llvm.struct<(ptr, ptr, i64, array<2 x i64>, array<2 x i64>)> \n",
      "    %12 = llvm.extractvalue %8[3, 0] : !llvm.struct<(ptr, ptr, i64, array<2 x i64>, array<2 x i64>)> \n",
      "    %13 = llvm.extractvalue %8[3, 1] : !llvm.struct<(ptr, ptr, i64, array<2 x i64>, array<2 x i64>)> \n",
      "    %14 = llvm.extractvalue %8[4, 0] : !llvm.struct<(ptr, ptr, i64, array<2 x i64>, array<2 x i64>)> \n",
      "    %15 = llvm.extractvalue %8[4, 1] : !llvm.struct<(ptr, ptr, i64, array<2 x i64>, array<2 x i64>)> \n",
      "    %16 = llvm.load %arg3 : !llvm.ptr -> !llvm.struct<(ptr, ptr, i64, array<2 x i64>, array<2 x i64>)>\n",
      "    %17 = llvm.extractvalue %16[0] : !llvm.struct<(ptr, ptr, i64, array<2 x i64>, array<2 x i64>)> \n",
      "    %18 = llvm.extractvalue %16[1] : !llvm.struct<(ptr, ptr, i64, array<2 x i64>, array<2 x i64>)> \n",
      "    %19 = llvm.extractvalue %16[2] : !llvm.struct<(ptr, ptr, i64, array<2 x i64>, array<2 x i64>)> \n",
      "    %20 = llvm.extractvalue %16[3, 0] : !llvm.struct<(ptr, ptr, i64, array<2 x i64>, array<2 x i64>)> \n",
      "    %21 = llvm.extractvalue %16[3, 1] : !llvm.struct<(ptr, ptr, i64, array<2 x i64>, array<2 x i64>)> \n",
      "    %22 = llvm.extractvalue %16[4, 0] : !llvm.struct<(ptr, ptr, i64, array<2 x i64>, array<2 x i64>)> \n",
      "    %23 = llvm.extractvalue %16[4, 1] : !llvm.struct<(ptr, ptr, i64, array<2 x i64>, array<2 x i64>)> \n",
      "    %24 = llvm.call @matmul_tensors(%1, %2, %3, %4, %5, %6, %7, %9, %10, %11, %12, %13, %14, %15, %17, %18, %19, %20, %21, %22, %23) : (!llvm.ptr, !llvm.ptr, i64, i64, i64, i64, i64, !llvm.ptr, !llvm.ptr, i64, i64, i64, i64, i64, !llvm.ptr, !llvm.ptr, i64, i64, i64, i64, i64) -> !llvm.struct<(ptr, ptr, i64, array<2 x i64>, array<2 x i64>)>\n",
      "    llvm.store %24, %arg0 : !llvm.struct<(ptr, ptr, i64, array<2 x i64>, array<2 x i64>)>, !llvm.ptr\n",
      "    llvm.return\n",
      "  }\n",
      "  llvm.func private @matmul_tensors_return_consumer(%arg0: i64, %arg1: !llvm.ptr) attributes {llvm.emit_c_interface, refbackend_consume_return_callback, sym_visibility = \"private\"} {\n",
      "    %0 = llvm.mlir.undef : !llvm.struct<(i64, ptr)>\n",
      "    %1 = llvm.insertvalue %arg0, %0[0] : !llvm.struct<(i64, ptr)> \n",
      "    %2 = llvm.insertvalue %arg1, %1[1] : !llvm.struct<(i64, ptr)> \n",
      "    %3 = llvm.mlir.constant(1 : index) : i64\n",
      "    %4 = llvm.alloca %3 x !llvm.struct<(i64, ptr)> : (i64) -> !llvm.ptr\n",
      "    llvm.store %2, %4 : !llvm.struct<(i64, ptr)>, !llvm.ptr\n",
      "    llvm.call @_mlir_ciface_matmul_tensors_return_consumer(%4) : (!llvm.ptr) -> ()\n",
      "    llvm.return\n",
      "  }\n",
      "  llvm.func @_mlir_ciface_matmul_tensors_return_consumer(!llvm.ptr) attributes {llvm.emit_c_interface, refbackend_consume_return_callback, sym_visibility = \"private\"}\n",
      "  llvm.func @matmul_tensors_capi_wrapper(%arg0: !llvm.ptr, %arg1: !llvm.ptr, %arg2: i64, %arg3: i64, %arg4: i64, %arg5: i64, %arg6: i64, %arg7: !llvm.ptr, %arg8: !llvm.ptr, %arg9: i64, %arg10: i64, %arg11: i64, %arg12: i64, %arg13: i64, %arg14: !llvm.ptr, %arg15: !llvm.ptr, %arg16: i64, %arg17: i64, %arg18: i64, %arg19: i64, %arg20: i64) attributes {llvm.emit_c_interface} {\n",
      "    %0 = llvm.mlir.undef : !llvm.struct<(ptr, ptr, i64, array<2 x i64>, array<2 x i64>)>\n",
      "    %1 = llvm.insertvalue %arg0, %0[0] : !llvm.struct<(ptr, ptr, i64, array<2 x i64>, array<2 x i64>)> \n",
      "    %2 = llvm.insertvalue %arg1, %1[1] : !llvm.struct<(ptr, ptr, i64, array<2 x i64>, array<2 x i64>)> \n",
      "    %3 = llvm.insertvalue %arg2, %2[2] : !llvm.struct<(ptr, ptr, i64, array<2 x i64>, array<2 x i64>)> \n",
      "    %4 = llvm.insertvalue %arg3, %3[3, 0] : !llvm.struct<(ptr, ptr, i64, array<2 x i64>, array<2 x i64>)> \n",
      "    %5 = llvm.insertvalue %arg5, %4[4, 0] : !llvm.struct<(ptr, ptr, i64, array<2 x i64>, array<2 x i64>)> \n",
      "    %6 = llvm.insertvalue %arg4, %5[3, 1] : !llvm.struct<(ptr, ptr, i64, array<2 x i64>, array<2 x i64>)> \n",
      "    %7 = llvm.insertvalue %arg6, %6[4, 1] : !llvm.struct<(ptr, ptr, i64, array<2 x i64>, array<2 x i64>)> \n",
      "    %8 = llvm.mlir.undef : !llvm.struct<(ptr, ptr, i64, array<2 x i64>, array<2 x i64>)>\n",
      "    %9 = llvm.insertvalue %arg7, %8[0] : !llvm.struct<(ptr, ptr, i64, array<2 x i64>, array<2 x i64>)> \n",
      "    %10 = llvm.insertvalue %arg8, %9[1] : !llvm.struct<(ptr, ptr, i64, array<2 x i64>, array<2 x i64>)> \n",
      "    %11 = llvm.insertvalue %arg9, %10[2] : !llvm.struct<(ptr, ptr, i64, array<2 x i64>, array<2 x i64>)> \n",
      "    %12 = llvm.insertvalue %arg10, %11[3, 0] : !llvm.struct<(ptr, ptr, i64, array<2 x i64>, array<2 x i64>)> \n",
      "    %13 = llvm.insertvalue %arg12, %12[4, 0] : !llvm.struct<(ptr, ptr, i64, array<2 x i64>, array<2 x i64>)> \n",
      "    %14 = llvm.insertvalue %arg11, %13[3, 1] : !llvm.struct<(ptr, ptr, i64, array<2 x i64>, array<2 x i64>)> \n",
      "    %15 = llvm.insertvalue %arg13, %14[4, 1] : !llvm.struct<(ptr, ptr, i64, array<2 x i64>, array<2 x i64>)> \n",
      "    %16 = llvm.mlir.undef : !llvm.struct<(ptr, ptr, i64, array<2 x i64>, array<2 x i64>)>\n",
      "    %17 = llvm.insertvalue %arg14, %16[0] : !llvm.struct<(ptr, ptr, i64, array<2 x i64>, array<2 x i64>)> \n",
      "    %18 = llvm.insertvalue %arg15, %17[1] : !llvm.struct<(ptr, ptr, i64, array<2 x i64>, array<2 x i64>)> \n",
      "    %19 = llvm.insertvalue %arg16, %18[2] : !llvm.struct<(ptr, ptr, i64, array<2 x i64>, array<2 x i64>)> \n",
      "    %20 = llvm.insertvalue %arg17, %19[3, 0] : !llvm.struct<(ptr, ptr, i64, array<2 x i64>, array<2 x i64>)> \n",
      "    %21 = llvm.insertvalue %arg19, %20[4, 0] : !llvm.struct<(ptr, ptr, i64, array<2 x i64>, array<2 x i64>)> \n",
      "    %22 = llvm.insertvalue %arg18, %21[3, 1] : !llvm.struct<(ptr, ptr, i64, array<2 x i64>, array<2 x i64>)> \n",
      "    %23 = llvm.insertvalue %arg20, %22[4, 1] : !llvm.struct<(ptr, ptr, i64, array<2 x i64>, array<2 x i64>)> \n",
      "    %24 = llvm.call @matmul_tensors(%arg0, %arg1, %arg2, %arg3, %arg4, %arg5, %arg6, %arg7, %arg8, %arg9, %arg10, %arg11, %arg12, %arg13, %arg14, %arg15, %arg16, %arg17, %arg18, %arg19, %arg20) : (!llvm.ptr, !llvm.ptr, i64, i64, i64, i64, i64, !llvm.ptr, !llvm.ptr, i64, i64, i64, i64, i64, !llvm.ptr, !llvm.ptr, i64, i64, i64, i64, i64) -> !llvm.struct<(ptr, ptr, i64, array<2 x i64>, array<2 x i64>)>\n",
      "    %25 = llvm.mlir.constant(1 : index) : i64\n",
      "    %26 = llvm.alloca %25 x !llvm.struct<(ptr, ptr, i64, array<2 x i64>, array<2 x i64>)> : (i64) -> !llvm.ptr\n",
      "    llvm.store %24, %26 : !llvm.struct<(ptr, ptr, i64, array<2 x i64>, array<2 x i64>)>, !llvm.ptr\n",
      "    %27 = llvm.mlir.constant(2 : index) : i64\n",
      "    %28 = llvm.mlir.undef : !llvm.struct<(i64, ptr)>\n",
      "    %29 = llvm.insertvalue %27, %28[0] : !llvm.struct<(i64, ptr)> \n",
      "    %30 = llvm.insertvalue %26, %29[1] : !llvm.struct<(i64, ptr)> \n",
      "    llvm.call @matmul_tensors_return_consumer(%27, %26) : (i64, !llvm.ptr) -> ()\n",
      "    llvm.return\n",
      "  }\n",
      "  llvm.func @_mlir_ciface_matmul_tensors_capi_wrapper(%arg0: !llvm.ptr, %arg1: !llvm.ptr, %arg2: !llvm.ptr) attributes {llvm.emit_c_interface} {\n",
      "    %0 = llvm.load %arg0 : !llvm.ptr -> !llvm.struct<(ptr, ptr, i64, array<2 x i64>, array<2 x i64>)>\n",
      "    %1 = llvm.extractvalue %0[0] : !llvm.struct<(ptr, ptr, i64, array<2 x i64>, array<2 x i64>)> \n",
      "    %2 = llvm.extractvalue %0[1] : !llvm.struct<(ptr, ptr, i64, array<2 x i64>, array<2 x i64>)> \n",
      "    %3 = llvm.extractvalue %0[2] : !llvm.struct<(ptr, ptr, i64, array<2 x i64>, array<2 x i64>)> \n",
      "    %4 = llvm.extractvalue %0[3, 0] : !llvm.struct<(ptr, ptr, i64, array<2 x i64>, array<2 x i64>)> \n",
      "    %5 = llvm.extractvalue %0[3, 1] : !llvm.struct<(ptr, ptr, i64, array<2 x i64>, array<2 x i64>)> \n",
      "    %6 = llvm.extractvalue %0[4, 0] : !llvm.struct<(ptr, ptr, i64, array<2 x i64>, array<2 x i64>)> \n",
      "    %7 = llvm.extractvalue %0[4, 1] : !llvm.struct<(ptr, ptr, i64, array<2 x i64>, array<2 x i64>)> \n",
      "    %8 = llvm.load %arg1 : !llvm.ptr -> !llvm.struct<(ptr, ptr, i64, array<2 x i64>, array<2 x i64>)>\n",
      "    %9 = llvm.extractvalue %8[0] : !llvm.struct<(ptr, ptr, i64, array<2 x i64>, array<2 x i64>)> \n",
      "    %10 = llvm.extractvalue %8[1] : !llvm.struct<(ptr, ptr, i64, array<2 x i64>, array<2 x i64>)> \n",
      "    %11 = llvm.extractvalue %8[2] : !llvm.struct<(ptr, ptr, i64, array<2 x i64>, array<2 x i64>)> \n",
      "    %12 = llvm.extractvalue %8[3, 0] : !llvm.struct<(ptr, ptr, i64, array<2 x i64>, array<2 x i64>)> \n",
      "    %13 = llvm.extractvalue %8[3, 1] : !llvm.struct<(ptr, ptr, i64, array<2 x i64>, array<2 x i64>)> \n",
      "    %14 = llvm.extractvalue %8[4, 0] : !llvm.struct<(ptr, ptr, i64, array<2 x i64>, array<2 x i64>)> \n",
      "    %15 = llvm.extractvalue %8[4, 1] : !llvm.struct<(ptr, ptr, i64, array<2 x i64>, array<2 x i64>)> \n",
      "    %16 = llvm.load %arg2 : !llvm.ptr -> !llvm.struct<(ptr, ptr, i64, array<2 x i64>, array<2 x i64>)>\n",
      "    %17 = llvm.extractvalue %16[0] : !llvm.struct<(ptr, ptr, i64, array<2 x i64>, array<2 x i64>)> \n",
      "    %18 = llvm.extractvalue %16[1] : !llvm.struct<(ptr, ptr, i64, array<2 x i64>, array<2 x i64>)> \n",
      "    %19 = llvm.extractvalue %16[2] : !llvm.struct<(ptr, ptr, i64, array<2 x i64>, array<2 x i64>)> \n",
      "    %20 = llvm.extractvalue %16[3, 0] : !llvm.struct<(ptr, ptr, i64, array<2 x i64>, array<2 x i64>)> \n",
      "    %21 = llvm.extractvalue %16[3, 1] : !llvm.struct<(ptr, ptr, i64, array<2 x i64>, array<2 x i64>)> \n",
      "    %22 = llvm.extractvalue %16[4, 0] : !llvm.struct<(ptr, ptr, i64, array<2 x i64>, array<2 x i64>)> \n",
      "    %23 = llvm.extractvalue %16[4, 1] : !llvm.struct<(ptr, ptr, i64, array<2 x i64>, array<2 x i64>)> \n",
      "    llvm.call @matmul_tensors_capi_wrapper(%1, %2, %3, %4, %5, %6, %7, %9, %10, %11, %12, %13, %14, %15, %17, %18, %19, %20, %21, %22, %23) : (!llvm.ptr, !llvm.ptr, i64, i64, i64, i64, i64, !llvm.ptr, !llvm.ptr, i64, i64, i64, i64, i64, !llvm.ptr, !llvm.ptr, i64, i64, i64, i64, i64) -> ()\n",
      "    llvm.return\n",
      "  }\n",
      "}\n"
     ]
    }
   ]
  },
  {
   "cell_type": "markdown",
   "source": [
    "# Load, run, and compare against numpy"
   ],
   "metadata": {
    "id": "sOapyydH8n4h"
   }
  },
  {
   "cell_type": "code",
   "source": [
    "A = np.random.randint(0, 10, (M, K)).astype(np.float32)\n",
    "B = np.random.randint(0, 10, (K, N)).astype(np.float32)\n",
    "C = np.zeros((M, N), dtype=np.float32)\n",
    "\n",
    "backend.load(compiled_module).matmul_tensors_capi_wrapper(A, B, C)\n",
    "assert np.allclose(A @ B, C)"
   ],
   "metadata": {
    "id": "pOEC4Qgw8p9X",
    "ExecuteTime": {
     "end_time": "2024-02-02T23:38:42.203011651Z",
     "start_time": "2024-02-02T23:38:42.159048695Z"
    }
   },
   "execution_count": 9,
   "outputs": []
  }
 ]
}
